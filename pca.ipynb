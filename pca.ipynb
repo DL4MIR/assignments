{
  "nbformat": 4,
  "nbformat_minor": 0,
  "metadata": {
    "colab": {
      "name": "pca.ipynb",
      "provenance": [],
      "collapsed_sections": []
    },
    "kernelspec": {
      "name": "python3",
      "display_name": "Python 3"
    },
    "language_info": {
      "name": "python"
    }
  },
  "cells": [
    {
      "cell_type": "code",
      "execution_count": 1,
      "metadata": {
        "id": "1MNjfrY7toSK",
        "colab": {
          "base_uri": "https://localhost:8080/"
        },
        "outputId": "d0e6d3d9-2311-4c04-f86b-af167782f749"
      },
      "outputs": [
        {
          "output_type": "stream",
          "name": "stdout",
          "text": [
            "Collecting mirdata\n",
            "  Downloading mirdata-0.3.6-py3-none-any.whl (13.1 MB)\n",
            "\u001b[K     |████████████████████████████████| 13.1 MB 3.0 MB/s \n",
            "\u001b[?25hRequirement already satisfied: requests in /usr/local/lib/python3.7/dist-packages (from mirdata) (2.23.0)\n",
            "Requirement already satisfied: chardet in /usr/local/lib/python3.7/dist-packages (from mirdata) (3.0.4)\n",
            "Requirement already satisfied: numpy>=1.16 in /usr/local/lib/python3.7/dist-packages (from mirdata) (1.21.5)\n",
            "Collecting Deprecated>=1.2.13\n",
            "  Downloading Deprecated-1.2.13-py2.py3-none-any.whl (9.6 kB)\n",
            "Requirement already satisfied: tqdm in /usr/local/lib/python3.7/dist-packages (from mirdata) (4.62.3)\n",
            "Requirement already satisfied: smart-open>=5.0.0 in /usr/local/lib/python3.7/dist-packages (from mirdata) (5.2.1)\n",
            "Requirement already satisfied: librosa>=0.8.0 in /usr/local/lib/python3.7/dist-packages (from mirdata) (0.8.1)\n",
            "Requirement already satisfied: scipy in /usr/local/lib/python3.7/dist-packages (from mirdata) (1.4.1)\n",
            "Collecting jams\n",
            "  Downloading jams-0.3.4.tar.gz (51 kB)\n",
            "\u001b[K     |████████████████████████████████| 51 kB 35 kB/s \n",
            "\u001b[?25hRequirement already satisfied: h5py>=2.10.0 in /usr/local/lib/python3.7/dist-packages (from mirdata) (3.1.0)\n",
            "Requirement already satisfied: pyyaml in /usr/local/lib/python3.7/dist-packages (from mirdata) (3.13)\n",
            "Collecting pretty-midi>=0.2.8\n",
            "  Downloading pretty_midi-0.2.9.tar.gz (5.6 MB)\n",
            "\u001b[K     |████████████████████████████████| 5.6 MB 39.8 MB/s \n",
            "\u001b[?25hRequirement already satisfied: wrapt<2,>=1.10 in /usr/local/lib/python3.7/dist-packages (from Deprecated>=1.2.13->mirdata) (1.13.3)\n",
            "Requirement already satisfied: cached-property in /usr/local/lib/python3.7/dist-packages (from h5py>=2.10.0->mirdata) (1.5.2)\n",
            "Requirement already satisfied: joblib>=0.14 in /usr/local/lib/python3.7/dist-packages (from librosa>=0.8.0->mirdata) (1.1.0)\n",
            "Requirement already satisfied: soundfile>=0.10.2 in /usr/local/lib/python3.7/dist-packages (from librosa>=0.8.0->mirdata) (0.10.3.post1)\n",
            "Requirement already satisfied: decorator>=3.0.0 in /usr/local/lib/python3.7/dist-packages (from librosa>=0.8.0->mirdata) (4.4.2)\n",
            "Requirement already satisfied: resampy>=0.2.2 in /usr/local/lib/python3.7/dist-packages (from librosa>=0.8.0->mirdata) (0.2.2)\n",
            "Requirement already satisfied: scikit-learn!=0.19.0,>=0.14.0 in /usr/local/lib/python3.7/dist-packages (from librosa>=0.8.0->mirdata) (1.0.2)\n",
            "Requirement already satisfied: packaging>=20.0 in /usr/local/lib/python3.7/dist-packages (from librosa>=0.8.0->mirdata) (21.3)\n",
            "Requirement already satisfied: numba>=0.43.0 in /usr/local/lib/python3.7/dist-packages (from librosa>=0.8.0->mirdata) (0.51.2)\n",
            "Requirement already satisfied: pooch>=1.0 in /usr/local/lib/python3.7/dist-packages (from librosa>=0.8.0->mirdata) (1.6.0)\n",
            "Requirement already satisfied: audioread>=2.0.0 in /usr/local/lib/python3.7/dist-packages (from librosa>=0.8.0->mirdata) (2.1.9)\n",
            "Requirement already satisfied: llvmlite<0.35,>=0.34.0.dev0 in /usr/local/lib/python3.7/dist-packages (from numba>=0.43.0->librosa>=0.8.0->mirdata) (0.34.0)\n",
            "Requirement already satisfied: setuptools in /usr/local/lib/python3.7/dist-packages (from numba>=0.43.0->librosa>=0.8.0->mirdata) (57.4.0)\n",
            "Requirement already satisfied: pyparsing!=3.0.5,>=2.0.2 in /usr/local/lib/python3.7/dist-packages (from packaging>=20.0->librosa>=0.8.0->mirdata) (3.0.7)\n",
            "Requirement already satisfied: appdirs>=1.3.0 in /usr/local/lib/python3.7/dist-packages (from pooch>=1.0->librosa>=0.8.0->mirdata) (1.4.4)\n",
            "Collecting mido>=1.1.16\n",
            "  Downloading mido-1.2.10-py2.py3-none-any.whl (51 kB)\n",
            "\u001b[K     |████████████████████████████████| 51 kB 3.5 MB/s \n",
            "\u001b[?25hRequirement already satisfied: six in /usr/local/lib/python3.7/dist-packages (from pretty-midi>=0.2.8->mirdata) (1.15.0)\n",
            "Requirement already satisfied: urllib3!=1.25.0,!=1.25.1,<1.26,>=1.21.1 in /usr/local/lib/python3.7/dist-packages (from requests->mirdata) (1.24.3)\n",
            "Requirement already satisfied: idna<3,>=2.5 in /usr/local/lib/python3.7/dist-packages (from requests->mirdata) (2.10)\n",
            "Requirement already satisfied: certifi>=2017.4.17 in /usr/local/lib/python3.7/dist-packages (from requests->mirdata) (2021.10.8)\n",
            "Requirement already satisfied: threadpoolctl>=2.0.0 in /usr/local/lib/python3.7/dist-packages (from scikit-learn!=0.19.0,>=0.14.0->librosa>=0.8.0->mirdata) (3.1.0)\n",
            "Requirement already satisfied: cffi>=1.0 in /usr/local/lib/python3.7/dist-packages (from soundfile>=0.10.2->librosa>=0.8.0->mirdata) (1.15.0)\n",
            "Requirement already satisfied: pycparser in /usr/local/lib/python3.7/dist-packages (from cffi>=1.0->soundfile>=0.10.2->librosa>=0.8.0->mirdata) (2.21)\n",
            "Requirement already satisfied: pandas in /usr/local/lib/python3.7/dist-packages (from jams->mirdata) (1.3.5)\n",
            "Requirement already satisfied: sortedcontainers>=2.0.0 in /usr/local/lib/python3.7/dist-packages (from jams->mirdata) (2.4.0)\n",
            "Requirement already satisfied: jsonschema>=3.0.0 in /usr/local/lib/python3.7/dist-packages (from jams->mirdata) (4.3.3)\n",
            "Collecting mir_eval>=0.5\n",
            "  Downloading mir_eval-0.6.tar.gz (87 kB)\n",
            "\u001b[K     |████████████████████████████████| 87 kB 2.7 MB/s \n",
            "\u001b[?25hRequirement already satisfied: importlib-metadata in /usr/local/lib/python3.7/dist-packages (from jsonschema>=3.0.0->jams->mirdata) (4.11.0)\n",
            "Requirement already satisfied: typing-extensions in /usr/local/lib/python3.7/dist-packages (from jsonschema>=3.0.0->jams->mirdata) (3.10.0.2)\n",
            "Requirement already satisfied: pyrsistent!=0.17.0,!=0.17.1,!=0.17.2,>=0.14.0 in /usr/local/lib/python3.7/dist-packages (from jsonschema>=3.0.0->jams->mirdata) (0.18.1)\n",
            "Requirement already satisfied: importlib-resources>=1.4.0 in /usr/local/lib/python3.7/dist-packages (from jsonschema>=3.0.0->jams->mirdata) (5.4.0)\n",
            "Requirement already satisfied: attrs>=17.4.0 in /usr/local/lib/python3.7/dist-packages (from jsonschema>=3.0.0->jams->mirdata) (21.4.0)\n",
            "Requirement already satisfied: zipp>=3.1.0 in /usr/local/lib/python3.7/dist-packages (from importlib-resources>=1.4.0->jsonschema>=3.0.0->jams->mirdata) (3.7.0)\n",
            "Requirement already satisfied: future in /usr/local/lib/python3.7/dist-packages (from mir_eval>=0.5->jams->mirdata) (0.16.0)\n",
            "Requirement already satisfied: pytz>=2017.3 in /usr/local/lib/python3.7/dist-packages (from pandas->jams->mirdata) (2018.9)\n",
            "Requirement already satisfied: python-dateutil>=2.7.3 in /usr/local/lib/python3.7/dist-packages (from pandas->jams->mirdata) (2.8.2)\n",
            "Building wheels for collected packages: pretty-midi, jams, mir-eval\n",
            "  Building wheel for pretty-midi (setup.py) ... \u001b[?25l\u001b[?25hdone\n",
            "  Created wheel for pretty-midi: filename=pretty_midi-0.2.9-py3-none-any.whl size=5591955 sha256=02de00af500ee2502895aba3d8c5d8917f8c3618d18c18e9af000cff0fe978d2\n",
            "  Stored in directory: /root/.cache/pip/wheels/ad/74/7c/a06473ca8dcb63efb98c1e67667ce39d52100f837835ea18fa\n",
            "  Building wheel for jams (setup.py) ... \u001b[?25l\u001b[?25hdone\n",
            "  Created wheel for jams: filename=jams-0.3.4-py3-none-any.whl size=64922 sha256=3fff22248775788311b318fca8981a6bf6f6f2f19e2e47ce10c23898fa52381f\n",
            "  Stored in directory: /root/.cache/pip/wheels/c9/aa/16/ce72bc4caa58dfab819e3f46b3542f2bf90a83009f4ea07a48\n",
            "  Building wheel for mir-eval (setup.py) ... \u001b[?25l\u001b[?25hdone\n",
            "  Created wheel for mir-eval: filename=mir_eval-0.6-py3-none-any.whl size=96515 sha256=e89bedb75afb2add7e70e6a3388badd1d17198307d13cd6e9a7a88820111b0b1\n",
            "  Stored in directory: /root/.cache/pip/wheels/08/28/2d/006dbad29550bac8daf049ff34fa882655a7d3e77f3b67595e\n",
            "Successfully built pretty-midi jams mir-eval\n",
            "Installing collected packages: mir-eval, mido, pretty-midi, jams, Deprecated, mirdata\n",
            "Successfully installed Deprecated-1.2.13 jams-0.3.4 mido-1.2.10 mir-eval-0.6 mirdata-0.3.6 pretty-midi-0.2.9\n"
          ]
        }
      ],
      "source": [
        "# In this notebook we will get familiar with mirdata and PCA. \n",
        "\n",
        "# More specifically, we will work with the tinysol dataset,\n",
        "# which consists of musical instrument notes. You can read \n",
        "# more about the tinysol dataset: https://zenodo.org/record/3685367#.YgnOty-B1qs\n",
        "\n",
        "# install mirdata on the colab shell\n",
        "!pip install # your code here\n",
        "\n",
        "# now import mirdata\n",
        "import # your code here"
      ]
    },
    {
      "cell_type": "code",
      "source": [
        "# now we can initialize the tinysol dataset and download it\n",
        "tinysol = mirdata.initialize(# your code here\n",
        "tinysol # your code here"
      ],
      "metadata": {
        "id": "CiFKhQVxtqB-",
        "colab": {
          "base_uri": "https://localhost:8080/"
        },
        "outputId": "cfaf0238-4a7f-49a1-d1f2-75d86318a97b"
      },
      "execution_count": 2,
      "outputs": [
        {
          "output_type": "stream",
          "name": "stderr",
          "text": [
            "INFO: Downloading ['audio', 'annotations'] to /root/mir_datasets/tinysol\n",
            "INFO: [audio] downloading TinySOL.tar.gz\n",
            "979MB [06:16, 2.73MB/s]                           \n",
            "INFO: [annotations] downloading TinySOL_metadata.csv\n",
            "312kB [00:01, 167kB/s]                           \n"
          ]
        }
      ]
    },
    {
      "cell_type": "code",
      "source": [
        "# Many datasets in mirdata have a list with the name of all the \n",
        "# \"tracks\" (i.e. wav files). This list can be accessed with the\n",
        "# track_ids attribute\n",
        "\n",
        "# get the list with all tracks\n",
        "all_tracks = # your code here\n",
        "\n",
        "# in the tinysol dataset you can use the track class to access \n",
        "# each track's \"variables\", including the instrument that it was played with \n",
        "\n",
        "# Iterate over all track ids and save the unique instrument abbreviations\n",
        "unique_inst_abbrs = []\n",
        "for t in all_tracks: \n",
        "  # your code here \n",
        "\n",
        "print(\"The unique instrument abbreviations are:\")\n",
        "print(unique_inst_abbrs)"
      ],
      "metadata": {
        "colab": {
          "base_uri": "https://localhost:8080/"
        },
        "id": "H-ZYUUnCUxaj",
        "outputId": "d447346a-fda1-4cc7-cf2d-d9a0db0fb561"
      },
      "execution_count": 3,
      "outputs": [
        {
          "output_type": "stream",
          "name": "stdout",
          "text": [
            "The unique instrument abbreviations are:\n",
            "['BTb', 'Hn', 'Tbn', 'TpC', 'Acc', 'Vc', 'Cb', 'Va', 'Vn', 'ASax', 'Bn', 'ClBb', 'Fl', 'Ob']\n"
          ]
        }
      ]
    },
    {
      "cell_type": "code",
      "source": [
        "# now we will get a list with all the tracks for \n",
        "# two instruments in unique_inst_abbrs\n",
        "\n",
        "# define the instruments you want to work with. \n",
        "# Use a string with the instrument abbreviation\n",
        "inst_1 = 'Vn'\n",
        "inst_2 = 'BTb'\n",
        "\n",
        "# now iterate over these two instrument abbreviations\n",
        "# and save ALL the instrument tracks in a list of strings\n",
        "inst_tracks = []\n",
        "for inst in [inst_1, inst_2]:\n",
        "  inst_tracks.extend(# your code here\n",
        "\n",
        "# now count how many tracks we have in total and \n",
        "# how many tracks belong for each instrument \n",
        "N = len(inst_tracks)\n",
        "Ninst_1 = # your code here\n",
        "Ninst_2 = # your code here\n",
        "\n",
        "print(\"The total number of tracks is {}\".format(N))\n",
        "print(\"The number of trakcks for inst_1 is {}\".format(Ninst_1))\n",
        "print(\"The number of trakcks for inst_2 is {}\".format(Ninst_2))\n",
        "\n",
        "# now import numpy and librosa\n",
        "import numpy as np\n",
        "import librosa\n",
        "\n",
        "# now load all the audio files and append them \n",
        "# to a list of tracks called X\n",
        "# the files can be very big, so working with the \n",
        "# raw audio can be very inefficient\n",
        "# consider resampling to 8kHz, using only half \n",
        "# a second of audio, obtaining the fft magnitude (to discard\n",
        "# the negative frequencies), and converting to dB. \n",
        "# When done, cast X to be numpy array\n",
        "X = []\n",
        "fs8k = 8000\n",
        "for track in inst_tracks:\n",
        "  x,fs = tinysol.track(track).audio\n",
        "  # x = librosa.resample(x,fs,fs8k)\n",
        "  X.append(librosa.amplitude_to_db(np.abs(np.fft.fft# your code here\n",
        "X = np.array(X)\n",
        "\n",
        "print(\"The shape of X is\")\n",
        "print(X.shape)\n",
        "# Q: what's the meaning of the numbers in the shape of X?\n",
        "# A:\n",
        "\n",
        "# depending on the code you write, this can take a while to run\n",
        "\n",
        "# The data is ready!"
      ],
      "metadata": {
        "colab": {
          "base_uri": "https://localhost:8080/"
        },
        "id": "hZvqBkhZt-BQ",
        "outputId": "0ad8c994-8e81-457c-be31-86e97d8526ff"
      },
      "execution_count": null,
      "outputs": [
        {
          "output_type": "stream",
          "name": "stdout",
          "text": [
            "The total number of tracks is 392\n",
            "The number of trakcks for inst_1 is 284\n",
            "The number of trakcks for inst_2 is 108\n",
            "The shape of X is\n",
            "(392, 2049)\n"
          ]
        }
      ]
    },
    {
      "cell_type": "code",
      "source": [
        "##################\n",
        "###    PCA     ###\n",
        "##################\n",
        "\n",
        "# Now we have a matrix X with datapoints and \"features\"\n",
        "# We can reduce the dimensionality of this data using PCA\n",
        "\n",
        "# 1. calculate mu, which has the mean of each feature \n",
        "# and subtract from X\n",
        "# Q: What type of object is mu? why do we need it? How do we use it?\n",
        "# A: \n",
        "mu = # your code here\n",
        "Xmu = # your code here\n",
        "\n",
        "# 2. now we calculate sigma, which is the standard deviation of each feature\n",
        "# and divide Xmu by it\n",
        "# Q: What type of object is sigma? why do we need it? How do we use it?\n",
        "# A: \n",
        "s = # your code here\n",
        "Xmus = # your code here\n",
        "\n",
        "# 3. now calculate the covariance matrix\n",
        "# Q: what are the dimensions of this matrix? why does it have that shape?\n",
        "# Q: what does this matrix tell us?\n",
        "# A: \n",
        "C = # your code here\n",
        "\n",
        "\n",
        "# 4. you can find the Eigenvalues and Eigenvectors of C\n",
        "# Eigenvalues can have a complex type (Q: why? A: ). \n",
        "# Cast them to be real (Q: why can we do this here? A: )\n",
        "E, V = np.linalg.eig(C)\n",
        "E = np.real(E)\n",
        "\n",
        "# 5. inspect how much of the data variance each \n",
        "# eigenvalue-eigenvector pair explains. To do this\n",
        "# you have to convert the eigenvalues to probabilities\n",
        "# and multiply by 100 to convert to \"percent of variance explained\"\n",
        "# round to two digits to make this easier to read\n",
        "perc_variance = # your code here to get a list with the percentage variance explained by each eigenvalue-eigenvector pair\n",
        "\n",
        "print(\"The percent of variance explained by each eigenvalue-eigenvector pair is: \")\n",
        "print(perc_variance)\n",
        "\n",
        "# Now we can reduce the dimensionality by defining a matrix W whose columns\n",
        "# are the two eigenvectors that correspond to the largest eigenvalues\n",
        "W = V[:,:2]\n",
        "\n",
        "# and proyecting the standardized data onto these eigenvectors\n",
        "X_reduced = np.dot( # your code here\n",
        "\n",
        "# X_reduced has your data, but with dimensionality reduced to the two components\n",
        "# that explain most of the variance in the data\n",
        "\n",
        "# Let's plot the results (you should not have to do anything here)\n",
        "import matplotlib.pyplot as plt\n",
        "\n",
        "plt.scatter(X_reduced[Ninst_1:,0],X_reduced[Ninst_1:,1], label=inst_1)\n",
        "plt.scatter(X_reduced[:Ninst_1,0],X_reduced[:Ninst_1,1], label=inst_2)\n",
        "plt.legend()\n",
        "\n",
        "plt.xlabel('PCA 1')\n",
        "plt.ylabel('PCA 2')\n",
        "plt.show()"
      ],
      "metadata": {
        "colab": {
          "base_uri": "https://localhost:8080/",
          "height": 347
        },
        "id": "DviYF-_vvwuL",
        "outputId": "3ca6240a-5a4a-4ab4-cb0b-7bd8602ea5e4"
      },
      "execution_count": null,
      "outputs": [
        {
          "output_type": "stream",
          "name": "stdout",
          "text": [
            "The percent of variance explained by each eigenvalue-eigenvector pair is: \n",
            "[53.7  10.62  2.32 ... -0.   -0.   -0.  ]\n"
          ]
        },
        {
          "output_type": "stream",
          "name": "stderr",
          "text": [
            "/usr/local/lib/python3.7/dist-packages/matplotlib/collections.py:153: ComplexWarning: Casting complex values to real discards the imaginary part\n",
            "  offsets = np.asanyarray(offsets, float)\n"
          ]
        },
        {
          "output_type": "display_data",
          "data": {
            "image/png": "[encoded data removed]",
            "text/plain": [
              "<Figure size 432x288 with 1 Axes>"
            ]
          },
          "metadata": {
            "needs_background": "light"
          }
        }
      ]
    },
    {
      "cell_type": "code",
      "source": [
        "# Now learn how to do the same with the PCA object in sklearn\n",
        "# your do not have to do anything here if you did everything correctly in the previous cell\n",
        "\n",
        "\n",
        "from sklearn.decomposition import PCA\n",
        "\n",
        "# create the PCA instance with the number of components to be computed \n",
        "pca = PCA(n_components=2)\n",
        "\n",
        "# \"transform\" the data that you want to reduce to \"two components\"\n",
        "X_PCA = pca.fit_transform(Xmus)\n",
        "\n",
        "plt.scatter(X_PCA[Ninst_1:,0],X_PCA[Ninst_1:,1], label=inst_1)\n",
        "plt.scatter(X_PCA[:Ninst_1,0],X_PCA[:Ninst_1,1], label=inst_2)\n",
        "plt.legend()\n",
        "\n",
        "plt.xlabel('PCA 1')\n",
        "plt.ylabel('PCA 2')\n",
        "plt.show()\n",
        "\n",
        "# Q: Do the plots look the same? Why?\n",
        "# A:"
      ],
      "metadata": {
        "colab": {
          "base_uri": "https://localhost:8080/",
          "height": 279
        },
        "id": "GN812LVcx0CM",
        "outputId": "8c8f77bf-c3da-4a36-abad-ee6c313d20e5"
      },
      "execution_count": null,
      "outputs": [
        {
          "output_type": "display_data",
          "data": {
            "image/png": "[encoded data removed]",
            "text/plain": [
              "<Figure size 432x288 with 1 Axes>"
            ]
          },
          "metadata": {
            "needs_background": "light"
          }
        }
      ]
    },
    {
      "cell_type": "code",
      "source": [
        "# Now your homework truly starts:\n",
        "\n",
        "# Here we have used the each signal's magnitude spectrum as the feature space \n",
        "# that we reduce using PCA.\n",
        "# You know more features than that! (remember class No.2?)\n",
        "\n",
        "# Find the set of features that maximally separate the datapoints\n",
        "# belonging to two instruments in the tinysol dataset. Be creative! Which\n",
        "# features best separate the two instruments you have selected?\n",
        "\n",
        "# To compute PCA, you may use sklearn PCA or your \"by hand\" implementation. \n",
        "\n",
        "# Then do the same with the datapoints of three different instruments of your choice\n",
        "\n",
        "# Add cells below to create the best plots you can with the datapoints of two and three \n",
        "# musical instruments as maximally separated from each other as possible. \n",
        "\n",
        "# Q: Does your method work better for some instrument combinations than others? why?\n",
        "# A:"
      ],
      "metadata": {
        "id": "8EmmdNjn3cdh"
      },
      "execution_count": null,
      "outputs": []
    },
    {
      "cell_type": "code",
      "source": [
        ""
      ],
      "metadata": {
        "id": "7D6heKg7_v9V"
      },
      "execution_count": null,
      "outputs": []
    },
    {
      "cell_type": "code",
      "source": [
        ""
      ],
      "metadata": {
        "id": "TVJ2QGMmKOs4"
      },
      "execution_count": null,
      "outputs": []
    }
  ]
}