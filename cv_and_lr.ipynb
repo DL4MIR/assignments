{
  "nbformat": 4,
  "nbformat_minor": 0,
  "metadata": {
    "colab": {
      "name": "cv_and_lr.ipynb",
      "provenance": [],
      "collapsed_sections": []
    },
    "kernelspec": {
      "name": "python3",
      "display_name": "Python 3"
    },
    "language_info": {
      "name": "python"
    }
  },
  "cells": [
    {
      "cell_type": "code",
      "execution_count": 1,
      "metadata": {
        "id": "1MNjfrY7toSK",
        "colab": {
          "base_uri": "https://localhost:8080/"
        },
        "outputId": "aa36c0a9-b06a-4f6c-d6e3-6510290b54bb"
      },
      "outputs": [
        {
          "output_type": "stream",
          "name": "stdout",
          "text": [
            "Collecting mirdata\n",
            "  Downloading mirdata-0.3.6-py3-none-any.whl (13.1 MB)\n",
            "\u001b[K     |████████████████████████████████| 13.1 MB 6.2 MB/s \n",
            "\u001b[?25hRequirement already satisfied: pyyaml in /usr/local/lib/python3.7/dist-packages (from mirdata) (3.13)\n",
            "Requirement already satisfied: tqdm in /usr/local/lib/python3.7/dist-packages (from mirdata) (4.62.3)\n",
            "Requirement already satisfied: scipy in /usr/local/lib/python3.7/dist-packages (from mirdata) (1.4.1)\n",
            "Requirement already satisfied: chardet in /usr/local/lib/python3.7/dist-packages (from mirdata) (3.0.4)\n",
            "Requirement already satisfied: smart-open>=5.0.0 in /usr/local/lib/python3.7/dist-packages (from mirdata) (5.2.1)\n",
            "Requirement already satisfied: requests in /usr/local/lib/python3.7/dist-packages (from mirdata) (2.23.0)\n",
            "Requirement already satisfied: librosa>=0.8.0 in /usr/local/lib/python3.7/dist-packages (from mirdata) (0.8.1)\n",
            "Collecting pretty-midi>=0.2.8\n",
            "  Downloading pretty_midi-0.2.9.tar.gz (5.6 MB)\n",
            "\u001b[K     |████████████████████████████████| 5.6 MB 6.8 MB/s \n",
            "\u001b[?25hCollecting Deprecated>=1.2.13\n",
            "  Downloading Deprecated-1.2.13-py2.py3-none-any.whl (9.6 kB)\n",
            "Requirement already satisfied: h5py>=2.10.0 in /usr/local/lib/python3.7/dist-packages (from mirdata) (3.1.0)\n",
            "Collecting jams\n",
            "  Downloading jams-0.3.4.tar.gz (51 kB)\n",
            "\u001b[K     |████████████████████████████████| 51 kB 63 kB/s \n",
            "\u001b[?25hRequirement already satisfied: numpy>=1.16 in /usr/local/lib/python3.7/dist-packages (from mirdata) (1.21.5)\n",
            "Requirement already satisfied: wrapt<2,>=1.10 in /usr/local/lib/python3.7/dist-packages (from Deprecated>=1.2.13->mirdata) (1.13.3)\n",
            "Requirement already satisfied: cached-property in /usr/local/lib/python3.7/dist-packages (from h5py>=2.10.0->mirdata) (1.5.2)\n",
            "Requirement already satisfied: soundfile>=0.10.2 in /usr/local/lib/python3.7/dist-packages (from librosa>=0.8.0->mirdata) (0.10.3.post1)\n",
            "Requirement already satisfied: pooch>=1.0 in /usr/local/lib/python3.7/dist-packages (from librosa>=0.8.0->mirdata) (1.6.0)\n",
            "Requirement already satisfied: scikit-learn!=0.19.0,>=0.14.0 in /usr/local/lib/python3.7/dist-packages (from librosa>=0.8.0->mirdata) (1.0.2)\n",
            "Requirement already satisfied: decorator>=3.0.0 in /usr/local/lib/python3.7/dist-packages (from librosa>=0.8.0->mirdata) (4.4.2)\n",
            "Requirement already satisfied: resampy>=0.2.2 in /usr/local/lib/python3.7/dist-packages (from librosa>=0.8.0->mirdata) (0.2.2)\n",
            "Requirement already satisfied: packaging>=20.0 in /usr/local/lib/python3.7/dist-packages (from librosa>=0.8.0->mirdata) (21.3)\n",
            "Requirement already satisfied: numba>=0.43.0 in /usr/local/lib/python3.7/dist-packages (from librosa>=0.8.0->mirdata) (0.51.2)\n",
            "Requirement already satisfied: joblib>=0.14 in /usr/local/lib/python3.7/dist-packages (from librosa>=0.8.0->mirdata) (1.1.0)\n",
            "Requirement already satisfied: audioread>=2.0.0 in /usr/local/lib/python3.7/dist-packages (from librosa>=0.8.0->mirdata) (2.1.9)\n",
            "Requirement already satisfied: llvmlite<0.35,>=0.34.0.dev0 in /usr/local/lib/python3.7/dist-packages (from numba>=0.43.0->librosa>=0.8.0->mirdata) (0.34.0)\n",
            "Requirement already satisfied: setuptools in /usr/local/lib/python3.7/dist-packages (from numba>=0.43.0->librosa>=0.8.0->mirdata) (57.4.0)\n",
            "Requirement already satisfied: pyparsing!=3.0.5,>=2.0.2 in /usr/local/lib/python3.7/dist-packages (from packaging>=20.0->librosa>=0.8.0->mirdata) (3.0.7)\n",
            "Requirement already satisfied: appdirs>=1.3.0 in /usr/local/lib/python3.7/dist-packages (from pooch>=1.0->librosa>=0.8.0->mirdata) (1.4.4)\n",
            "Collecting mido>=1.1.16\n",
            "  Downloading mido-1.2.10-py2.py3-none-any.whl (51 kB)\n",
            "\u001b[K     |████████████████████████████████| 51 kB 6.7 MB/s \n",
            "\u001b[?25hRequirement already satisfied: six in /usr/local/lib/python3.7/dist-packages (from pretty-midi>=0.2.8->mirdata) (1.15.0)\n",
            "Requirement already satisfied: certifi>=2017.4.17 in /usr/local/lib/python3.7/dist-packages (from requests->mirdata) (2021.10.8)\n",
            "Requirement already satisfied: idna<3,>=2.5 in /usr/local/lib/python3.7/dist-packages (from requests->mirdata) (2.10)\n",
            "Requirement already satisfied: urllib3!=1.25.0,!=1.25.1,<1.26,>=1.21.1 in /usr/local/lib/python3.7/dist-packages (from requests->mirdata) (1.24.3)\n",
            "Requirement already satisfied: threadpoolctl>=2.0.0 in /usr/local/lib/python3.7/dist-packages (from scikit-learn!=0.19.0,>=0.14.0->librosa>=0.8.0->mirdata) (3.1.0)\n",
            "Requirement already satisfied: cffi>=1.0 in /usr/local/lib/python3.7/dist-packages (from soundfile>=0.10.2->librosa>=0.8.0->mirdata) (1.15.0)\n",
            "Requirement already satisfied: pycparser in /usr/local/lib/python3.7/dist-packages (from cffi>=1.0->soundfile>=0.10.2->librosa>=0.8.0->mirdata) (2.21)\n",
            "Requirement already satisfied: pandas in /usr/local/lib/python3.7/dist-packages (from jams->mirdata) (1.3.5)\n",
            "Requirement already satisfied: sortedcontainers>=2.0.0 in /usr/local/lib/python3.7/dist-packages (from jams->mirdata) (2.4.0)\n",
            "Requirement already satisfied: jsonschema>=3.0.0 in /usr/local/lib/python3.7/dist-packages (from jams->mirdata) (4.3.3)\n",
            "Collecting mir_eval>=0.5\n",
            "  Downloading mir_eval-0.7.tar.gz (90 kB)\n",
            "\u001b[K     |████████████████████████████████| 90 kB 2.0 MB/s \n",
            "\u001b[?25hRequirement already satisfied: attrs>=17.4.0 in /usr/local/lib/python3.7/dist-packages (from jsonschema>=3.0.0->jams->mirdata) (21.4.0)\n",
            "Requirement already satisfied: pyrsistent!=0.17.0,!=0.17.1,!=0.17.2,>=0.14.0 in /usr/local/lib/python3.7/dist-packages (from jsonschema>=3.0.0->jams->mirdata) (0.18.1)\n",
            "Requirement already satisfied: importlib-resources>=1.4.0 in /usr/local/lib/python3.7/dist-packages (from jsonschema>=3.0.0->jams->mirdata) (5.4.0)\n",
            "Requirement already satisfied: importlib-metadata in /usr/local/lib/python3.7/dist-packages (from jsonschema>=3.0.0->jams->mirdata) (4.11.1)\n",
            "Requirement already satisfied: typing-extensions in /usr/local/lib/python3.7/dist-packages (from jsonschema>=3.0.0->jams->mirdata) (3.10.0.2)\n",
            "Requirement already satisfied: zipp>=3.1.0 in /usr/local/lib/python3.7/dist-packages (from importlib-resources>=1.4.0->jsonschema>=3.0.0->jams->mirdata) (3.7.0)\n",
            "Requirement already satisfied: future in /usr/local/lib/python3.7/dist-packages (from mir_eval>=0.5->jams->mirdata) (0.16.0)\n",
            "Requirement already satisfied: python-dateutil>=2.7.3 in /usr/local/lib/python3.7/dist-packages (from pandas->jams->mirdata) (2.8.2)\n",
            "Requirement already satisfied: pytz>=2017.3 in /usr/local/lib/python3.7/dist-packages (from pandas->jams->mirdata) (2018.9)\n",
            "Building wheels for collected packages: pretty-midi, jams, mir-eval\n",
            "  Building wheel for pretty-midi (setup.py) ... \u001b[?25l\u001b[?25hdone\n",
            "  Created wheel for pretty-midi: filename=pretty_midi-0.2.9-py3-none-any.whl size=5591955 sha256=28320ce7767b1bab48c7df4e94a87a2bd5825803a78b96c1e07c47eb8564a3a2\n",
            "  Stored in directory: /root/.cache/pip/wheels/ad/74/7c/a06473ca8dcb63efb98c1e67667ce39d52100f837835ea18fa\n",
            "  Building wheel for jams (setup.py) ... \u001b[?25l\u001b[?25hdone\n",
            "  Created wheel for jams: filename=jams-0.3.4-py3-none-any.whl size=64922 sha256=e61926e53daa2b7dc2e1898e02f016da7571f94448745cc6b7d5bb25a8d3b543\n",
            "  Stored in directory: /root/.cache/pip/wheels/c9/aa/16/ce72bc4caa58dfab819e3f46b3542f2bf90a83009f4ea07a48\n",
            "  Building wheel for mir-eval (setup.py) ... \u001b[?25l\u001b[?25hdone\n",
            "  Created wheel for mir-eval: filename=mir_eval-0.7-py3-none-any.whl size=100721 sha256=b3d1729b229cdb0ea3bfd27b90fab8d31e799e0ebb304b7a75bd0c8e791a4270\n",
            "  Stored in directory: /root/.cache/pip/wheels/18/5a/46/d2527ff1fd975e1a793375e6ed763bfe4d3ea396b7cdc470eb\n",
            "Successfully built pretty-midi jams mir-eval\n",
            "Installing collected packages: mir-eval, mido, pretty-midi, jams, Deprecated, mirdata\n",
            "Successfully installed Deprecated-1.2.13 jams-0.3.4 mido-1.2.10 mir-eval-0.7 mirdata-0.3.6 pretty-midi-0.2.9\n"
          ]
        }
      ],
      "source": [
        "# In this notebook we will get familiar with cross-validation, linear \n",
        "# regression, and gradient descent optimization\n",
        "\n",
        "# We will continue working with the tinysol dataset\n",
        "\n",
        "# install mirdata on the colab shell\n",
        "### your code here\n",
        "\n",
        "# now import mirdata\n",
        "### your code here"
      ]
    },
    {
      "cell_type": "code",
      "source": [
        "# now we can initialize the tinysol dataset and (down)load it\n",
        "tinysol = ### your code here\n",
        "tinysol### your code here"
      ],
      "metadata": {
        "id": "CiFKhQVxtqB-",
        "colab": {
          "base_uri": "https://localhost:8080/"
        },
        "outputId": "344c6ced-343d-4f71-d00c-e90f08d8f5d6"
      },
      "execution_count": 4,
      "outputs": [
        {
          "output_type": "stream",
          "name": "stderr",
          "text": [
            "INFO: Downloading ['audio', 'annotations'] to /root/mir_datasets/tinysol\n",
            "INFO: [audio] downloading TinySOL.tar.gz\n",
            "INFO: /root/mir_datasets/tinysol/audio/TinySOL.tar.gz already exists and will not be downloaded. Rerun with force_overwrite=True to delete this file and force the download.\n",
            "INFO: [annotations] downloading TinySOL_metadata.csv\n",
            "312kB [00:02, 109kB/s]                           \n"
          ]
        }
      ]
    },
    {
      "cell_type": "code",
      "source": [
        "# let's load a few libraries that we will need\n",
        "import librosa\n",
        "import numpy as np\n",
        "import matplotlib.pyplot as plt\n",
        "\n",
        "###############################################################\n",
        "# To make algorithm optimization easy, we will work with two  #\n",
        "# features (i.e. two dimensions) so that we are               #\n",
        "# able to visualize linear regression and its optimization    #\n",
        "#                                                             #\n",
        "# we will extract a couple features from ALL datapoints       #\n",
        "# that we want to work with                                   #\n",
        "###############################################################\n",
        "\n",
        "# get all the track_ids\n",
        "all_tracks = ### your code here\n",
        "\n",
        "# the datapoints that we want to work with are ALL the Viola tones\n",
        "\n",
        "# create a \"data\" matrix, where rows correspond to each viola datapoint\n",
        "# \"data\" has two columns, the first one with the f0 and the second one\n",
        "# with the spectral centroid. Use librosa to extract these features\n",
        "# from each Viola track in the tinysol dataset. To extract the f0 (fundamental\n",
        "# frequency), use librosa.yin (make sure you use all the correct arguments\n",
        "# for this function; use of the correct arguments is VERY IMPORTANT).\n",
        "\n",
        "data = []\n",
        "for t in all_tracks:  \n",
        "  if tinysol.track(t).instrument_abbr == 'Va':        \n",
        "    x,sr = ### your code here to load the audio and sr\n",
        "    # feature 1. f0\n",
        "    f0 = ### your code here\n",
        "    # feature 2. spectral centroid\n",
        "    sc = ### your code here\n",
        "    \n",
        "    # concatenate the two features from each datapoint\n",
        "    data.append([f0,sc])\n",
        "\n",
        "data = np.array(data)\n",
        "\n",
        "print(\"\\nThe shape of 'data' is \", data.shape,\"\\n\")\n",
        "\n",
        "# we can also visualize these features\n",
        "plt.scatter(data[:,0],data[:,1])\n",
        "plt.xlabel('f0 (Hz)')\n",
        "plt.ylabel('spectral centroid')\n",
        "plt.show()"
      ],
      "metadata": {
        "colab": {
          "base_uri": "https://localhost:8080/",
          "height": 327
        },
        "id": "H-ZYUUnCUxaj",
        "outputId": "fed1badf-74b8-49f2-d953-30bbe8f6e70d"
      },
      "execution_count": 5,
      "outputs": [
        {
          "output_type": "stream",
          "name": "stdout",
          "text": [
            "\n",
            "The shape of 'data' is  (309, 2) \n",
            "\n"
          ]
        },
        {
          "output_type": "display_data",
          "data": {
            "image/png": "[encoded data removed]",
            "text/plain": [
              "<Figure size 432x288 with 1 Axes>"
            ]
          },
          "metadata": {
            "needs_background": "light"
          }
        }
      ]
    },
    {
      "cell_type": "code",
      "source": [
        "# now randomly select ~5% of the data and set it apart as test set\n",
        "# Hint: you can use the np.random.choice function (with replace=False) \n",
        "# and use the first ~5% of its output to index out the test set\n",
        "\n",
        "all_idx = ### your code here\n",
        "\n",
        "data_ts = data[all_idx[### your code here\n",
        "data_tr = data[all_idx[### your code here\n",
        "\n",
        "print(\"The shape of the training data is \", data_tr.shape)\n",
        "print(\"The shape of the testing data is \", data_ts.shape)"
      ],
      "metadata": {
        "colab": {
          "base_uri": "https://localhost:8080/"
        },
        "id": "hZvqBkhZt-BQ",
        "outputId": "2f0f6aa7-73da-4709-aaa2-4465da51b3a9"
      },
      "execution_count": 16,
      "outputs": [
        {
          "output_type": "stream",
          "name": "stdout",
          "text": [
            "The shape of the training data is  (294, 2)\n",
            "The shape of the testing data is  (15, 2)\n"
          ]
        }
      ]
    },
    {
      "cell_type": "code",
      "source": [
        "# some libraries we will use\n",
        "import time\n",
        "! pip install sklearn\n",
        "from sklearn.model_selection import KFold\n",
        "from IPython import display\n",
        "\n",
        "\n",
        "# now let's standardize our training features to be zero-mean and unit variance\n",
        "mu_tr = ### your code here\n",
        "std_tr = ### your code here\n",
        "data_tr = ### your code here"
      ],
      "metadata": {
        "colab": {
          "base_uri": "https://localhost:8080/"
        },
        "id": "8yuhIy7iw2h7",
        "outputId": "bd08a4cd-75cb-410a-deae-1f948df528e8"
      },
      "execution_count": 8,
      "outputs": [
        {
          "output_type": "stream",
          "name": "stdout",
          "text": [
            "Requirement already satisfied: sklearn in /usr/local/lib/python3.7/dist-packages (0.0)\n",
            "Requirement already satisfied: scikit-learn in /usr/local/lib/python3.7/dist-packages (from sklearn) (1.0.2)\n",
            "Requirement already satisfied: threadpoolctl>=2.0.0 in /usr/local/lib/python3.7/dist-packages (from scikit-learn->sklearn) (3.1.0)\n",
            "Requirement already satisfied: scipy>=1.1.0 in /usr/local/lib/python3.7/dist-packages (from scikit-learn->sklearn) (1.4.1)\n",
            "Requirement already satisfied: joblib>=0.11 in /usr/local/lib/python3.7/dist-packages (from scikit-learn->sklearn) (1.1.0)\n",
            "Requirement already satisfied: numpy>=1.14.6 in /usr/local/lib/python3.7/dist-packages (from scikit-learn->sklearn) (1.21.5)\n"
          ]
        }
      ]
    },
    {
      "cell_type": "code",
      "source": [
        "# Here's the main body of this homework\n",
        "\n",
        "# we will use k-fold cross validation to optimize a simple linear regression\n",
        "# model using gradient descent. \n",
        "\n",
        "# let's start by defining our independent (x) and dependent (y) variables\n",
        "# Q: which one of the two features (f0 or spectral centroid) should be the\n",
        "# independent variable? Why?\n",
        "# A: \n",
        "x = ### your code here\n",
        "y = ### your code here\n",
        "\n",
        "# Now define the learning variables for the optimization algorithm\n",
        "epochs = ### your code here to define the number of epochs\n",
        "lr = ### your code here to define the learning rate\n",
        "\n",
        "# we are ready to start the optimization routine\n",
        "# using sklearn.Kfold, we will split the data into 5 folds\n",
        "# and we will use each fold as validation set in a for loop\n",
        "n_splits = 5\n",
        "kf = KFold(n_splits=n_splits)\n",
        "# we will also save the slope and bias terms that we find\n",
        "# for each fold in a list\n",
        "ws = []\n",
        "bs = []\n",
        "all_Jtrs = []\n",
        "all_Jvls = []\n",
        "for ifold, (tr_idx, vl_idx) in enumerate(kf.split(x)):\n",
        "\n",
        "  print(\"\\n#######################\")\n",
        "  print(\"# training fold No. {} #\".format(ifold+1))\n",
        "  print(\"#######################\\n\")\n",
        "  time.sleep(3)\n",
        "\n",
        "  # organize the data into training and validation splits\n",
        "  x_tr, x_vl = x[tr_idx], x[vl_idx]\n",
        "  y_tr, y_vl = y[tr_idx], y[vl_idx]\n",
        "\n",
        "  # intialize the slope and bias as\n",
        "  # random numbers drawn from a normal\n",
        "  # distribution (use np.random.randn)\n",
        "  w = ### your code here\n",
        "  b = ### your code here\n",
        "\n",
        "  # we will repeatedly show the data \n",
        "  # to out gradient descent\n",
        "  # algorithm a few times \n",
        "  Jtrs = []\n",
        "  Jvls = []\n",
        "  for e in range(epochs):\n",
        "    \n",
        "    # compute y_hat with the training data\n",
        "    y_hat_tr = ### your code here\n",
        "    # compute y_hat with the validation data\n",
        "    y_hat_vl = ### your code here\n",
        "\n",
        "    # compute the loss function with the training data\n",
        "    J_tr = ### your code here\n",
        "    # compute the loss function with the validation data\n",
        "    J_vl = ### your code here\n",
        "\n",
        "    # save the training and validation loss to visualize at the end\n",
        "    Jtrs.append(J_tr)\n",
        "    Jvls.append(J_vl)\n",
        "\n",
        "    print(\"at epoch {} the training loss J_tr = {:.5f}\".format(e+1,J_tr))\n",
        "    print(\"          and validation loss J_vl = {:.5f}\".format(J_vl))\n",
        "    print(\"    w = \", w)\n",
        "    print(\"    b = \", b)\n",
        "    \n",
        "    \n",
        "    # now let's plot to see our learning progress every epoch\n",
        "    time.sleep(1.5)\n",
        "    plt.scatter(x_tr,y_tr,c='blue')\n",
        "    plt.xlabel('f0 (standardized)')\n",
        "    plt.ylabel('spectral centroid (standardized)')\n",
        "    plt.plot([np.min(x_tr),np.max(x_tr)], [np.min(x_tr)*w+b,np.max(x_tr)*w+b],c='red') if e== 19 else plt.plot([np.min(x_tr),np.max(x_tr)], [np.min(x_tr)*w+b,np.max(x_tr)*w+b],c='black',linestyle='dashed',linewidth=0.2)    \n",
        "    display.clear_output(wait=True)\n",
        "    display.display(plt.gcf())        \n",
        "\n",
        "    # now compute the gradient of w and b\n",
        "    dw = ### your code here\n",
        "    db = ### your code here\n",
        "\n",
        "    # and update w and b\n",
        "    w = w - lr*dw\n",
        "    b = b - lr*db\n",
        "  \n",
        "  display.clear_output()\n",
        "\n",
        "  # let's save the fold's optimized parameters and each epoch tr and vl loss\n",
        "  ws.append(w)\n",
        "  bs.append(b)\n",
        "  all_Jtrs.append(Jtrs)\n",
        "  all_Jvls.append(Jvls)\n",
        "\n",
        "for i in range(n_splits):\n",
        "  print(\"for fold No.\",i+1, \", the optimized parameters were\", i, \" w=\", ws[i], \"and b=\",bs[i])"
      ],
      "metadata": {
        "colab": {
          "base_uri": "https://localhost:8080/",
          "height": 360
        },
        "id": "6vZvfsEnhcRX",
        "outputId": "f7929324-2b3f-4b3c-f52a-3360249ef849"
      },
      "execution_count": 11,
      "outputs": [
        {
          "output_type": "stream",
          "name": "stdout",
          "text": [
            "for fold No. 1 , the optimized parameters were 0  w= [0.86267586] and b= [0.01141236]\n",
            "for fold No. 2 , the optimized parameters were 1  w= [0.86217097] and b= [0.00914778]\n",
            "for fold No. 3 , the optimized parameters were 2  w= [0.83593209] and b= [-0.01223353]\n",
            "for fold No. 4 , the optimized parameters were 3  w= [0.83470536] and b= [-0.00186227]\n",
            "for fold No. 5 , the optimized parameters were 4  w= [0.88435991] and b= [-0.00457069]\n"
          ]
        },
        {
          "output_type": "display_data",
          "data": {
            "image/png": "[encoded data removed]",
            "text/plain": [
              "<Figure size 432x288 with 1 Axes>"
            ]
          },
          "metadata": {
            "needs_background": "light"
          }
        }
      ]
    },
    {
      "cell_type": "code",
      "source": [
        "# this cell works without needing to change or add code\n",
        "\n",
        "print(\"\\nPlotting the training and validation losses:\\n\")\n",
        "\n",
        "plt.plot(np.array(all_Jtrs).T)\n",
        "plt.title('Training loss (each line is a different fold)')\n",
        "plt.xlabel('Epoch No.')\n",
        "plt.ylabel('J')\n",
        "plt.ylim([0,3])\n",
        "plt.show()\n",
        "plt.plot(np.array(all_Jvls).T)\n",
        "plt.title('Validation loss (each line is a different fold)')\n",
        "plt.xlabel('Epoch No.')\n",
        "plt.ylabel('J')\n",
        "plt.ylim([0,3])\n",
        "plt.show()\n",
        "plt.title('Loss (mean across folds)')\n",
        "plt.plot(np.mean(np.array(all_Jtrs),axis=0),label='Training')\n",
        "plt.plot(np.mean(np.array(all_Jvls),axis=0),label='Validation')\n",
        "plt.xlabel('Epoch No.')\n",
        "plt.ylabel('J')\n",
        "plt.ylim([0,1.6])\n",
        "plt.legend()\n",
        "plt.show()\n",
        "\n",
        "# Q: how do the losses differ between folds? why do you think this is seen?\n",
        "# A:\n",
        "\n",
        "# Q: how do the losses differ between training and validation splits? why do you think this is seen?\n",
        "# A:\n",
        "\n",
        "# Q: is your model overfit, underfit, or properly optimized? how do you know this?\n",
        "# A:"
      ],
      "metadata": {
        "colab": {
          "base_uri": "https://localhost:8080/",
          "height": 898
        },
        "id": "z9QbDu7H94pX",
        "outputId": "9b08e93f-9eff-466e-9f98-2b9964c4a22a"
      },
      "execution_count": 12,
      "outputs": [
        {
          "output_type": "stream",
          "name": "stdout",
          "text": [
            "\n",
            "Plotting the training and validation losses:\n",
            "\n"
          ]
        },
        {
          "output_type": "display_data",
          "data": {
            "image/png": "[encoded data removed]",
            "text/plain": [
              "<Figure size 432x288 with 1 Axes>"
            ]
          },
          "metadata": {
            "needs_background": "light"
          }
        },
        {
          "output_type": "display_data",
          "data": {
            "image/png": "[encoded data removed]",
            "text/plain": [
              "<Figure size 432x288 with 1 Axes>"
            ]
          },
          "metadata": {
            "needs_background": "light"
          }
        },
        {
          "output_type": "display_data",
          "data": {
            "image/png": "[encoded data removed]",
            "text/plain": [
              "<Figure size 432x288 with 1 Axes>"
            ]
          },
          "metadata": {
            "needs_background": "light"
          }
        }
      ]
    },
    {
      "cell_type": "code",
      "source": [
        "####################\n",
        "# model evaluation #\n",
        "####################\n",
        "\n",
        "# now you have a list of 'w' and a list of 'b' parameters\n",
        "# Q: why do we have many 'w' and many 'b', if we only need one of each for our model?\n",
        "# A:\n",
        "\n",
        "# to evaluate the model, we only need one, not five. \n",
        "# Q: how would you go about getting a single 'w' and a single 'b'?\n",
        "# A:\n",
        "\n",
        "best_w = ### your code here\n",
        "best_b = ### your code here\n",
        "\n",
        "# Now, using your optimized 'w' and 'b' calculate the absolute error between y_hat and y with ALL your training\n",
        "training_error = ### your code here\n",
        "print(\"The standardized training error was: \", training_error)\n",
        "\n",
        "# Q: why do we say that this is the \"standardized training\" error?\n",
        "# A:\n",
        "\n",
        "# Q: should we consider calculating the non-standardized training error? why?\n",
        "# A: \n",
        "\n",
        "# if you are happy with your model optimization, you may move on to the next cell. \n",
        "\n",
        "##################################################################################\n",
        "# ATTENTION: DO NOT move to the next cell until you have a well-optimized model. #\n",
        "# continuing without a well-optimized model will ruin the model evaluation.      #\n",
        "##################################################################################"
      ],
      "metadata": {
        "colab": {
          "base_uri": "https://localhost:8080/"
        },
        "id": "DviYF-_vvwuL",
        "outputId": "fd9c10d0-d09d-4c40-eae9-13f9f3a1ac58"
      },
      "execution_count": 13,
      "outputs": [
        {
          "output_type": "stream",
          "name": "stdout",
          "text": [
            "The standardized training error was:  0.4041376117606221\n"
          ]
        }
      ]
    },
    {
      "cell_type": "code",
      "source": [
        "##################################################################\n",
        "# RUN THIS CELL ONLY ONCE WHEN YOU ARE DONE WITH THE CELLS ABOVE #\n",
        "# Running this cell more than once is a violation of             #\n",
        "# international Machine Learning Law                             #\n",
        "##################################################################\n",
        "# Q: why is it so important that you run this cell only once at the\n",
        "# very end?\n",
        "# A:\n",
        "\n",
        "\n",
        "# now do the same evaluation with the test set\n",
        "\n",
        "# IMPORTANT: you will have to standardize the test data using the training data mu and std\n",
        "# Q: why do we standardize the test data with the training mu and std?\n",
        "# A:\n",
        "\n",
        "data_ts = ### your code here\n",
        "\n",
        "x_ts = ### your code here\n",
        "y_ts = ### your code here\n",
        "\n",
        "test_set_error = ### your code here\n",
        "print(\"The standardized testing error was: \", test_set_error)\n",
        "plt.scatter(x_ts,y_ts,c='blue')\n",
        "plt.plot([np.min(x_ts),np.max(x_ts)], [np.min(x_ts)*best_w+best_b,np.max(x_ts)*best_w+best_b],c='red')\n",
        "plt.xlabel('f0 (standardized)')\n",
        "plt.ylabel('spectral centroid (standardized)')\n",
        "plt.title('Regression model on the test set')    \n",
        "plt.show()"
      ],
      "metadata": {
        "colab": {
          "base_uri": "https://localhost:8080/",
          "height": 284
        },
        "id": "GN812LVcx0CM",
        "outputId": "b78d2b17-da2f-4d6e-9cbd-ea55779bfa93"
      },
      "execution_count": 17,
      "outputs": [
        {
          "output_type": "stream",
          "name": "stdout",
          "text": [
            "The standardized testing error was:  0.35106055081336063\n"
          ]
        },
        {
          "output_type": "display_data",
          "data": {
            "image/png": "[encoded data removed]",
            "text/plain": [
              "<Figure size 432x288 with 1 Axes>"
            ]
          },
          "metadata": {
            "needs_background": "light"
          }
        }
      ]
    },
    {
      "cell_type": "code",
      "source": [
        "# Now your homework truly starts: (just kidding, you are almost done this time and there is no more \"coding\")\n",
        "\n",
        "# Q: were your optimized 'w' and 'b' parameters good for the test set data? how do you know if they were or not?\n",
        "# A: \n",
        "\n",
        "# Q: which was lower, the training or the test error? Why?\n",
        "# A: \n",
        "\n",
        "# Q: Would the same 'w' and 'b' parameters work with another musical instrument?\n",
        "# A: \n",
        "\n",
        "# Q: Would the same 'w' and 'b' parameters work with a new recording of Viola tones?\n",
        "# A: \n",
        "\n",
        "# Q: \n",
        "# Picture this scenario: your friend has arranged Morton Feldman's \"the viola\n",
        "# in my life\" to be played with solo viola. She wants to create a visualization \n",
        "# of the viola spectral centroid (she will map the spectral centroid values to \n",
        "# a heatmap of colors that is projected on a screen behind her, but the exact details\n",
        "# are a secret to surprise the public and she does not want to tell you more about it) \n",
        "#\n",
        "# She has a problem though, and you must help her:\n",
        "#\n",
        "# from the score that she will follow, she can only get f0 for each tone, and she also needs the spectral centroid. \n",
        "#\n",
        "# What would you have to do to use your linear regression model for \n",
        "# her live performance, predicting the spectral centroid from the f0 data in the score?\n",
        "# \n",
        "# Be as detailed as possible explaining the steps to do f0 data pre-processing\n",
        "# and prediction usng your model on \"unseen, real-world data\"\n",
        "#\n",
        "# A:\n",
        "#\n",
        "#\n",
        "#\n",
        "#\n",
        "# Q: which short-comings do you anticipate your model will face when being\n",
        "# applied on this real-world data? Is your model good enough to do this in the first place?\n",
        "# how do you know?\n",
        "# A:\n",
        "#\n",
        "#\n",
        "# Remember: to successfully help her, she will give you f0 values, and you\n",
        "# must give her the corresponding spectral-centroid values, all of this BEFORE\n",
        "# the live performance. In other words, you do NOT have access to audio data AT ALL.\n",
        "# You only have the score and the f0 values."
      ],
      "metadata": {
        "id": "8EmmdNjn3cdh"
      },
      "execution_count": null,
      "outputs": []
    },
    {
      "cell_type": "code",
      "source": [
        ""
      ],
      "metadata": {
        "id": "7D6heKg7_v9V"
      },
      "execution_count": null,
      "outputs": []
    },
    {
      "cell_type": "code",
      "source": [
        ""
      ],
      "metadata": {
        "id": "TVJ2QGMmKOs4"
      },
      "execution_count": null,
      "outputs": []
    }
  ]
}