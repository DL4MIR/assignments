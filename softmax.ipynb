{
  "nbformat": 4,
  "nbformat_minor": 0,
  "metadata": {
    "colab": {
      "name": "softmax.ipynb",
      "provenance": [],
      "collapsed_sections": []
    },
    "kernelspec": {
      "name": "python3",
      "display_name": "Python 3"
    },
    "language_info": {
      "name": "python"
    },
    "widgets": {
      "application/vnd.jupyter.widget-state+json": {
        "2c6a2bbe63cb4aafbb7bc0cd14e99b73": {
          "model_module": "@jupyter-widgets/controls",
          "model_name": "ButtonModel",
          "model_module_version": "1.5.0",
          "state": {
            "_view_name": "ButtonView",
            "style": "IPY_MODEL_1dcfcf51ae984eac99eb61647c08251a",
            "_dom_classes": [],
            "description": "Record Speech",
            "_model_name": "ButtonModel",
            "button_style": "",
            "_view_module": "@jupyter-widgets/controls",
            "_model_module_version": "1.5.0",
            "tooltip": "",
            "_view_count": null,
            "disabled": false,
            "_view_module_version": "1.5.0",
            "layout": "IPY_MODEL_3e7102173c0b4631b3489fd8ab7fc469",
            "_model_module": "@jupyter-widgets/controls",
            "icon": ""
          }
        },
        "1dcfcf51ae984eac99eb61647c08251a": {
          "model_module": "@jupyter-widgets/controls",
          "model_name": "ButtonStyleModel",
          "model_module_version": "1.5.0",
          "state": {
            "_view_name": "StyleView",
            "_model_name": "ButtonStyleModel",
            "_view_module": "@jupyter-widgets/base",
            "_model_module_version": "1.5.0",
            "_view_count": null,
            "button_color": null,
            "font_weight": "",
            "_view_module_version": "1.2.0",
            "_model_module": "@jupyter-widgets/controls"
          }
        },
        "3e7102173c0b4631b3489fd8ab7fc469": {
          "model_module": "@jupyter-widgets/base",
          "model_name": "LayoutModel",
          "model_module_version": "1.2.0",
          "state": {
            "_view_name": "LayoutView",
            "grid_template_rows": null,
            "right": null,
            "justify_content": null,
            "_view_module": "@jupyter-widgets/base",
            "overflow": null,
            "_model_module_version": "1.2.0",
            "_view_count": null,
            "flex_flow": null,
            "width": null,
            "min_width": null,
            "border": null,
            "align_items": null,
            "bottom": null,
            "_model_module": "@jupyter-widgets/base",
            "top": null,
            "grid_column": null,
            "overflow_y": null,
            "overflow_x": null,
            "grid_auto_flow": null,
            "grid_area": null,
            "grid_template_columns": null,
            "flex": null,
            "_model_name": "LayoutModel",
            "justify_items": null,
            "grid_row": null,
            "max_height": null,
            "align_content": null,
            "visibility": null,
            "align_self": null,
            "height": null,
            "min_height": null,
            "padding": null,
            "grid_auto_rows": null,
            "grid_gap": null,
            "max_width": null,
            "order": null,
            "_view_module_version": "1.2.0",
            "grid_template_areas": null,
            "object_position": null,
            "object_fit": null,
            "grid_auto_columns": null,
            "margin": null,
            "display": null,
            "left": null
          }
        }
      }
    }
  },
  "cells": [
    {
      "cell_type": "code",
      "execution_count": null,
      "metadata": {
        "id": "xlUjaK-lrulV"
      },
      "outputs": [],
      "source": [
        "# In this notebook we will optimize a softmax classifier\n",
        "\n",
        "# We will work with the PCVD dataset\n",
        "\n",
        "# go to this website and click on Download\n",
        "# https://www.kaggle.com/sabermalek/pcvcspeech\n",
        "\n",
        "# Then put the files in the same directory as this .ipynb file"
      ]
    },
    {
      "cell_type": "code",
      "source": [
        "# This cell loads and processes the data\n",
        "# you do not have to do anything here\n",
        "\n",
        "# The libraries needed\n",
        "import os\n",
        "import scipy.io\n",
        "from scipy.signal.windows import hann\n",
        "import numpy as np\n",
        "import librosa\n",
        "\n",
        "# list all the files that are part of the dataset\n",
        "all_mats = [i for i in os.listdir('.') if 'mat' in i]\n",
        "\n",
        "# load the time-series data in each of the data files\n",
        "# and store them in a numpy array\n",
        "data = []\n",
        "for mat in all_mats:\n",
        "  d = scipy.io.loadmat(mat)['x']\n",
        "  data.append(d)\n",
        "data = np.concatenate(data,axis=1)\n",
        "\n",
        "# reshape the data so that we have a matrix where each\n",
        "# row is a datapoint (i.e. a vowel-consonant utterance)\n",
        "_,nreps,nvow,nsamps=data.shape\n",
        "data = np.reshape(data,(nreps*nvow,nsamps),order='F')\n",
        "\n",
        "# window the data to reduce the number of samples\n",
        "# and center the window around the vowel\n",
        "data = data[:,5000:15000]*hann(10000)\n",
        "\n",
        "# finally, resample the data have a sampling\n",
        "# rate of 16000\n",
        "sr = 16000\n",
        "X = []\n",
        "for d in data:\n",
        "  X.append(librosa.resample(d,48000,sr))\n",
        "data = np.array(X)\n",
        "\n",
        "print(\"The shape of the data is\", data.shape)"
      ],
      "metadata": {
        "id": "Ln-PjIa1r9-d",
        "colab": {
          "base_uri": "https://localhost:8080/"
        },
        "outputId": "270e41ab-4441-4bd1-d3df-0f9396454af3"
      },
      "execution_count": null,
      "outputs": [
        {
          "output_type": "stream",
          "name": "stdout",
          "text": [
            "The shape of the data is (1794, 3334)\n"
          ]
        }
      ]
    },
    {
      "cell_type": "code",
      "source": [
        "# now listen a few example datapoints\n",
        "# remember, each row of \"data\" is a datapoint\n",
        "from IPython.display import Audio\n",
        "Audio(data=data[0,:], rate=sr)"
      ],
      "metadata": {
        "colab": {
          "base_uri": "https://localhost:8080/",
          "height": 52
        },
        "id": "kfEqJk10s3Bk",
        "outputId": "900cc620-9935-48dc-8225-37d963765570"
      },
      "execution_count": null,
      "outputs": [
        {
          "output_type": "execute_result",
          "data": {
            "text/html": [
              "\n",
              "                <audio controls=\"controls\" >\n",
              "                    <source src=\"data:audio/wav;base64,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\" type=\"audio/wav\" />\n",
              "                    Your browser does not support the audio element.\n",
              "                </audio>\n",
              "              "
            ],
            "text/plain": [
              "<IPython.lib.display.Audio object>"
            ]
          },
          "metadata": {},
          "execution_count": 3
        }
      ]
    },
    {
      "cell_type": "code",
      "source": [
        "# \"data\" has the same number of datapoints for each vowel\n",
        "# In farsi, there are 6 vowels. Considering the number of\n",
        "# datapoints in \"data\". How many points do you have per vowel?\n",
        "\n",
        "ndatapoints_per_vowel = # ?\n",
        "\n",
        "# now, the first ndatapoints_per_vowel rows in \"data\" contain\n",
        "# datapoints tha correspond to the vowel \"a\". The next\n",
        "# ndatapoints_per_vowel rows correspond to the vowel \"i\", etc.\n",
        "\n",
        "# we need to create a \"labels\" matrix with the same number of rows\n",
        "# as \"data\", and six columns. In \"labels\", each row has a 1 and\n",
        "# the rest entries are zeros. The location of the number 1\n",
        "# indicates which vowel the corresponding row of \"data\" has \n",
        "# time-series data for\n",
        "\n",
        "labels = # your code here\n",
        "\n",
        "print(\"the shape of labels is\",labels.shape)"
      ],
      "metadata": {
        "colab": {
          "base_uri": "https://localhost:8080/"
        },
        "id": "jQjz9b5wlWzc",
        "outputId": "b77f0524-27b0-4446-8933-3c22dc6c6a24"
      },
      "execution_count": null,
      "outputs": [
        {
          "output_type": "stream",
          "name": "stdout",
          "text": [
            "the shape of labels is (1794, 6)\n"
          ]
        }
      ]
    },
    {
      "cell_type": "code",
      "source": [
        "# now randomly select ~5% of rows in \"data\" to be the test set\n",
        "# Hint: you can use the np.random.choice function (with replace=False) \n",
        "# and use the first ~5% of its output to index out the test set\n",
        "# the remaining datapoints will be the \"development\" set\n",
        "\n",
        "all_idx = np.random.choice(# your code here\n",
        "\n",
        "data_ts = # your code here\n",
        "labels_ts = # your code here\n",
        "data_dv = # your code here\n",
        "labels_dv = # your code here\n",
        "\n",
        "print(\"The shape of the development data is \", data_dv.shape)\n",
        "print(\"The shape of the development labels is \", labels_dv.shape)\n",
        "print(\"The shape of the testing data is \", data_ts.shape)\n",
        "print(\"The shape of the testing labels is \", labels_ts.shape)"
      ],
      "metadata": {
        "id": "hs4LD_RWvpqY",
        "colab": {
          "base_uri": "https://localhost:8080/"
        },
        "outputId": "44e00923-fc3c-4af7-b213-158aa4a70312"
      },
      "execution_count": null,
      "outputs": [
        {
          "output_type": "stream",
          "name": "stdout",
          "text": [
            "The shape of the development data is  (1704, 3334)\n",
            "The shape of the development labels is  (1704, 6)\n",
            "The shape of the testing data is  (90, 3334)\n",
            "The shape of the testing labels is  (90, 6)\n"
          ]
        }
      ]
    },
    {
      "cell_type": "code",
      "source": [
        "# now we randomly select ~15% of the development\n",
        "# data to be your validation set, and the rest to be your training\n",
        "# set. In this homework we will NOT to k-fold cross-validation.\n",
        "\n",
        "# Q: why are we using only one fold as the validation set? Why are we not doing k-folds?\n",
        "# A:\n",
        "\n",
        "all_idx = np.random.choice(# your code here\n",
        "\n",
        "Xvl = # your code here\n",
        "Yvl = # your code here\n",
        "Xtr = # your code here\n",
        "Ytr = # your code here\n",
        "\n",
        "print(\"The shape of the taining data is \", Xtr.shape)\n",
        "print(\"The shape of the training labels is \", Ytr.shape)\n",
        "print(\"The shape of the validation data is \", Xvl.shape)\n",
        "print(\"The shape of the validation labels is \", Yvl.shape)"
      ],
      "metadata": {
        "colab": {
          "base_uri": "https://localhost:8080/"
        },
        "id": "IxZ_Voc58iMi",
        "outputId": "0c0b4d5a-23d2-4214-dd5c-069da3064f2a"
      },
      "execution_count": null,
      "outputs": [
        {
          "output_type": "stream",
          "name": "stdout",
          "text": [
            "The shape of the taining data is  (1449, 3334)\n",
            "The shape of the training labels is  (1449, 6)\n",
            "The shape of the validation data is  (255, 3334)\n",
            "The shape of the validation labels is  (255, 6)\n"
          ]
        }
      ]
    },
    {
      "cell_type": "code",
      "source": [
        "# now we have to standardize the data.\n",
        "\n",
        "# Here each datapoint is a time-series. Additionally, we have\n",
        "# a very limited number of datapoints. As a result, we must\n",
        "# standardize each datapoint separately. Fortunately, audio time-series\n",
        "# can be normalized to have zero mean and values that in the\n",
        "# range of values between -1 and 1.\n",
        "\n",
        "# standardize the training and validation data so that each datapoint\n",
        "# has a mean centered around zero, and the largest value magnitude in a datapoint is 1\n",
        "\n",
        "mu_tr = # your code here\n",
        "max_tr = # your code here\n",
        "mu_vl = # your code here\n",
        "max_vl = # your code here\n",
        "\n",
        "Xtr = (Xtr-mu_tr)/max_tr\n",
        "Xvl = (Xvl-mu_vl)/max_vl"
      ],
      "metadata": {
        "id": "XDLiLxje-5UE"
      },
      "execution_count": null,
      "outputs": []
    },
    {
      "cell_type": "code",
      "source": [
        "# we have a very limited number of training data. \n",
        "# as a result, we must \"augment\" the number of training datapoints\n",
        "# here we suggest that you augment the data by adding noise to it\n",
        "# and randomly shift its pitch. However, you should consider augmenting\n",
        "# your data with even more techniques. \n",
        "\n",
        "# Q: why should we augment our data?\n",
        "# A:\n",
        "\n",
        "# create a copy of your training data to add gaussian noise \n",
        "# with a small variance\n",
        "Xnoise = Xtr + # your code here\n",
        "\n",
        "# create a copy of your training data to randomly shift \n",
        "# the pitch of each datapoint by a few semitones\n",
        "pitch_factors = # your code here\n",
        "Xpitch = []\n",
        "for i, x in enumerate(Xtr):\n",
        "  Xpitch.append(librosa.effects.pitch_shift(# your code here\n",
        "\n",
        "# now concatenate your original data with the augmented datapoints\n",
        "Xtr = np.concatenate((Xtr,Xnoise,np.array(Xpitch)),axis=0)\n",
        "Ytr = np.concatenate((Ytr,Ytr,Ytr),axis=0)\n",
        "\n",
        "print(\"The shape of the training data is \", Xtr.shape)\n",
        "print(\"The shape of the training labels is \", Ytr.shape)\n",
        "print(\"The shape of the validation data is \", Xvl.shape)\n",
        "print(\"The shape of the validation labels is \", Yvl.shape)\n",
        "\n",
        "# you should consider applying more data augmentation in order\n",
        "# to be able to train a more robust model. However, not all\n",
        "# data augmentation for audio will be good given what we are trying to do here\n",
        "\n",
        "# CAUTION: Running this cell more than once can result in your number of\n",
        "# training datapoints growing expontentially, but being very redundant"
      ],
      "metadata": {
        "colab": {
          "base_uri": "https://localhost:8080/"
        },
        "id": "MQQMRymv-NUh",
        "outputId": "81e27435-de17-4c43-cf50-e97fe08289ba"
      },
      "execution_count": null,
      "outputs": [
        {
          "output_type": "stream",
          "name": "stdout",
          "text": [
            "The shape of the training data is  (4347, 3334)\n",
            "The shape of the training labels is  (4347, 6)\n",
            "The shape of the validation data is  (255, 3334)\n",
            "The shape of the validation labels is  (255, 6)\n"
          ]
        }
      ]
    },
    {
      "cell_type": "code",
      "source": [
        "# use this cell to hear the differences between your\n",
        "# original training data and its \"augmented\" versions\n",
        "from IPython.display import Audio\n",
        "Audio(data=Xtr, rate=sr)"
      ],
      "metadata": {
        "colab": {
          "base_uri": "https://localhost:8080/",
          "height": 52
        },
        "id": "NUp2gLKLC9J0",
        "outputId": "de03fb52-60e1-4d4d-e338-228fbea374fe"
      },
      "execution_count": null,
      "outputs": [
        {
          "output_type": "execute_result",
          "data": {
            "text/html": [
              "\n",
              "                <audio controls=\"controls\" >\n",
              "                    <source src=\"data:audio/wav;base64,UklGRjAaAABXQVZFZm10IBAAAAABAAEAgD4AAAB9AAACABAAZGF0YQwaAACKALEArAC1AJwAgABYABsA4P+e/2//Wv9e/3n/lP+v/8X/2f/w//3//v/w/9n/xf+7/8H/1//3/x4ARwBtAJIAswDJAMkArAB1AC8A6v+v/4P/af9d/13/Zv95/5b/u//i/wAAEQAQAAEA7f/b/9L/1v/o/wUAKwBSAHsAoQC8AMMAsgCOAF8AJgDn/6L/Zf88/y7/NP9H/2D/gP+n/9H/9f8GAAMA8v/e/9T/2v/v/wwALgBRAHcAnwDDANoA2wDFAJsAYAAaANL/kf9g/0D/LP8g/yH/N/9j/53/1P/6/woACwAFAAEAAAAFAA8AIAA3AFUAegChAMQA2gDeAMoAngBdABAAyP+L/1z/M/8O//n+A/8v/2r/mv+y/7z/zP/t/xQALQAuAB4AFwAoAFIAhwC2ANkA8wAIARAB/ADCAGwAEwDU/7D/lf9p/yv/9P7k/gL/Ov9y/6H/zv8AADMAVgBgAFkAUgBYAG0AiwCrAMgA3wDtAPEA7ADfAMgAowBrACEAyf9r/xj/3f7B/sL+3v4N/0X/eP+W/6P/t//v/0gApADTAMIAlAB+AJ8A4gAaASgBFwEGAQkBEQH6AK8AOgDF/3L/Tv9D/zf/G//9/vP+Dv9J/5X/4v8pAGcAlgCzAMYA3QD7ABMBEgH5AOQA7gAWATkBMgH6ALAAdABLAB0A0f9l//P+m/5u/mv+jP7L/hr/YP+D/4n/nP/o/3UADAFfAUQB5gCjAL4AJAF6AXEBEQGyAKcA6QAeAewASQCF/wD/5v4N/yz/Gf/g/rD+rP7g/kD/uv82AJ0A4gAJASYBRwFnAXQBaQFUAU4BXwFsAUwB8gCBADQAJwA6ACsA0f83/5f+H/7b/b79yP0I/nz++/5K/1X/Uf+Q/zAA8wBsAWgBGAHoABgBfwGtAV8BwQBHAEQAnwDwANkASwCJ/+b+jv5w/mH+RP4a/u790P3Z/TD+3/64/2sAzAD0ACUBggHsARsC3wFZAeUA0QAOAT4BGAGkAC0A7v/n/+//2P+F//T+Pf6H/fj8t/zY/D79mv2x/av9+P3h/iYAIAFQAc0AQABSAA0BwAGgAZkAcv8O/5f/ZwC1ADwAZP/K/sH+Cv8c/6n+4/1B/QT9F/1R/ar9M/7w/s3/ogBEAZ4BwgHXAe0B+AH0Ae0B3AGPAecAGACS/5P/9/9QAD0Ap//Q/hv+tv1z/RP9mvw//Cr8SvyQ/A792f3O/p//EwA7AGoA8QDMAYACcAJ5ATIAdv+g/0gArgBXAGz/f/4O/h/+QP4E/nT99PzK/Nr85vzs/DL98P0X/1cAYAERAoMC6wJsAwIElgQKBTUF4QT4A6sCagGbAFYAWwBCAMH/0/69/df8Rvzz+7P7eftb+3v77/uy/Kj9pv55/w0AfwASAQcCVAOSBC8F5gQABBkDnQJ7AkUCowGUAGT/ZP6y/Tj9y/xR/Nf7gPtp+5z7DPym/GP9Sv5m/7UAJQKUA+IEBQYSBx0IFQm1Ca4J3AhoB7wFRQQ0A2cCiAFaAOj+dP1E/Hb79/qQ+hH6jvls+SP6xvvO/Wz/JwBHAKAA7wE/BMIGdAjgCGkIzwdzBxUHNAaGBEAC7/8T/tz8GPx/++76Z/rn+Wb5A/kI+bD57vp6/Az+lP8iAcYCZgTdBTsH2Qj5Cj0Nqg5iDnEM0gmqB20GpQV1BFYCiP/Z/P/6DvqN+QH5UPi796D3T/jZ+fH7//15/0wA6AD0AekDtAaRCXML2gtGC7cKmApLCtgI8QVGAvT+o/wt++D5Qfib9qz10fWI9gH3D/da95r41vpn/Z//SgG3AmUEnAY1Ca8Lig2LDrUOFw7QDCULaAmuB7cFMgMZANX8/Pnz96D2f/Uh9LTyEvId8/L1r/kQ/VH/mQChAQEDzQS4BnkI9gksCwgMZgwpDD0LlQklBwMEcADS/Ir50/a99D3zNvJ78dzwX/Bw8LPxgfRz+Ib8zP/6AYIDIAVRBwoKvAyyDoEPMA8QDmMMSQrhB10F7AKLAPT90PoU9yfzuu887a/r9upb64HtnfHc9rr7D//sAHACwgQYCHkLjQ29Da4MowteC5gLZwsLCnYHGwR5AK78gvj186TvfOzu6n/qaOqC6nvrDO4e8tb2VPtM/+MCNwYuCbQL6A31D7YRpRI2EkUQTQ0eClkHFQXUAvj/Pfzp95vz0u+Z7KnpBed+5Wjma+qv8D73cvz6/5MCKgU0CJsLww63EMQQNg9IDS8MBQzACysK2QZgAqX9FPmV9CfwV+yo6b7nwOXT48DjY+d17oH2GP2pATIFoggtDJ4PmxKNFNcUmhPkEc8QUhAbD+0L/Qb9AZD+oPyI+t32z/Gi7A7oGeRu4ebh1+b37u/2Uvy0/4IDJgmgD9YUlRc4GKwXYhZlFOwRag/5DA4KOwbaAb79Evon9pvxKu3Q6WLn1eQ/4qvhJeVD7EX05fpRABgGrQywEoMWGxjOGKwZSBpZGV4WThKhDsYL+Qh7BXABUv0E+RT0ou556TzlPOJB4bPjH+rI8pz6xv8ZA8kGBwwdElsXfxpsG+4aGRqVGSkZ0hdvFKwOkQfmANH73Pe38/vuxepG6BPnqOWr497icuW76xP0wvw3BYsNXhXPGzMgNiKfIW4egBmkFFYRbA89DV8JVAQOALv9Tfxl+djzrOyu5d/fvdui2lne1uZO8Vn6DQFXBxcPyxcNH/cijiPyISsf7BvzGMoW2hRnETQLGgOO+zD2VfJV7tfpPuaU5AzkNuNN4mDjv+ca7hf0e/m5ALgLpRgeI1MoTSnFKKknnCR2HjQWDg5PB9gBSf3C+T73pPR+8GzqheMj3d3XT9Q01JvZf+S08TT9hwWFDJsUph37JCsoTCd3JHohmh5sG+sXPRSmD84Ij//E9bjt1+ea4tzcg9eB1MPUrddy3PriPetf9Dr9rQW0DrsYWyIRKXMrUSqXJ1YkEyDxGQwSgAlxAXL60vTh8GXuDewO6Jnhrtln0rbN0cxL0CLYauNQ8PP8eghGE8IdGSc2LXMuLyuYJdQfkhpPFZIPfAmIAxj+MPlQ9IPuPec53yLYLtNQ0CLPM9DW1KfdiOlI9jcC5wyqFpcfCScULB4uGC1KKUIjBBy+FPINLgfW/2r4O/La7Tzqs+We37HY5tETzHnIGsl4z9XaY+hj9SoB6gxSGRIlhC3VMGYv9yolJcYeRRgQEhoMvQWL/gf3PPBe6pfkfN7u2BrVr9Is0HDNDM1H0svdy+ze+88JbxcNJd8wTTgYOvo2ijD/J0geiBTWC3MEnP2p9hnwB+uu59Pk7uBz28DUdc3QxpXDPsf30rzjaPQnAoQOlByeLNg6a0J1QR06UjD0JrQe5xZ+DpYEJ/nP7V3lYOEH4HPdttfc0HzMwssEzeTOgtLm2U3lEvMHAogSvCSKNh5EqUpLSiRF6TzZMQMk+hRiB9L89/Tw7u3qS+mZ6AnmHeBG2PrQ+cr5xVDDjcZj0hrlufkoDAYcnCuyO9JJ51FAUcdIkjvVLAUfPBOiCQkBwPcC7sjl9+Ds3o3cHNhi0mzNpMoKymTMBdPd3Wfrgfn9B24Y4irQPMpJtE4xTNZE+ToVL7Ug3RCmASD1U+xM5/bl/Oau57PlpOBc2jvU+83ex2rE0ccf1AjnZ/xoEbolgDkPS5tXBV0CW4NStERFM7Ag1g9OAmD3o+3a5FzeONst2u7YZtY/02zQyc2Ky+bL/9Gz3kPvIAAhELEgrDLFQ0BQjFV7U1ZLBz7rLGYa7Aj9+UXtw+IP3Jraut2X4V3iZd8b2iLUes2kxjbDKMf/0+XmS/vUDzMloTtZUENe0GJhXjpT1kNuMTgeRwxW/G3uIOJi2XHWVtiR277bitgo1VvTptLv0B/Pq9Eq2/rqif17EKUkeDk1TJZY/lvvV/JN1T42K7cUg/8V7pHgbNZjzybNm8/k0+3WsNY21IbQ/8o4xPC+gcBizHLgOPgqEDooQkGDWF5p7G+5a2Ff8UxhNuUdEAZ38Xng6tJ7yR7FF8bFyavMic0qzf7Mbcwpys/HXcmV0kHjl/fODFgiozhVTltfXWj8Z9Fenk7qOFEg2Qeh8Sbf3NDcx2nFfMgVztDRUNHbzWnJN8WtwLy7jLnRvfbKROCz+vQXRjWqTz9kgHAqdP5uqGAzSiQujxHF+EvlDNeWzMjF2sLWwr7E8Mb6yPDKg8veyVHGTMTqyCDWjupXAo8alDLoSGBbMmdmavtk6VaVQfkntg1b9r3i2tJUxyXBf8HcxujNSdOm1HPSqs1Cx7vADrzwvAjGfNe578YLdikdRj9eRm8zd7N1zGqiVoM76Rx2//rmCtVCynLF+cQ4xzjKVs0S0DnSedMs0gLOvciyxt3MV9zy8rYMjSaYPzZWO2jpctdz52q5WJE/1CKYBVHrvtX8xTy9ibvJwH3KeNRL26rcvNmK1CjOwMcewmvAicYs1irv6A1DLqxMeWUZd/9//36tc0BdLj4zGyj6lOCfz2nG/8J7w8PHN87h1AHaCty42yLZiNTBz2PN4NFh36L04w4OKtNDM1qzahR0z3S8bF1cSESNJ5QJFe4I2E/IT8ApwGzGTtBF2S7f0OG64Yjf0dnS0EDHgMHQxNvSp+oGCQ8pHUetXxRxG3thfNdzD2BHQuQfyv5I5K3RjcUZvyi96L+cxirPOdhA39LiZeI+3sHZ7Ndp25HlLvXnCRsidztwU75lWnBNcqNrLF5gSggyPxfV+2TjN9COxEfBy8Owye/PYdXp2pnfseJ44iPeP9hg01nT99p+6mUBxBthNWlL4lt9Z19tbmtQYHJLaDDIEy35b+Nx0j7Glr6buvG6Hr94xmDPjNbR2ifcPdyO3cbgPefN8cAAAhT7KGs9X0/rXCdlIWY1X3lRmT5zKVgTI/1H6AXWuMiFwSDAt8Pjya3QRdZp2QLbDdyW3b7fo+FS5OTp0PQIBucaxi8fQSFNVVQaV7ZVQk8CQvEtrBQ1+vriBdGSxBm8tbYJtXS3Pr4kyADTDN1V5K7oX+uU7tT0RP6tCWoVcSCNK8M2FkGFSMFKh0dtP7kzriVfFU0D8O/V3ArN98L4v47Cj8fyzPHRtNfe3pLm4e1g88n2Tvh3+Kj5Jv53B5sU4iHOLJ40tjpHQF9DMUExN4AlWQ8J+PDir9FDxJ26+LM1seuzfLwHytnYouU07771FPvR/xUEYAhrDKcQIRU5GkMh+ikcMw06WDwaOhQ0aytIIJ8Rwv+/6xzY58fIvOi3sLjPvUbGqtCR3C/pJ/Vb/wQGnwimB28E3QEXAo8G/A4jGVgjPCyiM4c5Izx/OXgvzR38BkXuoddrxSy48a8HrEutCLVuw0jXa+y9/skLHxPIFv8XYxcjFfkQbQwdCd8IKA0cFVsfVymxMKY0OjRsL9MlwRZoA3btYtjex+K9wrt2wGfKDNgG50X2awQsEIAYGRs0F6wNiQHP91/zBPUb+xIDbgwHF+0i6y6mN0k6djQRJpYRQvoc5HPR+MI0ua20Vrc8wvfTL+kl/fEMjhfqHLYdMhqaE5wLbwN+/N73p/cA/t8KGhxBLWY6m0EQQjU8SzD5HhEKhfMx3gnNtcJJwSLIndQu4/zwi/3jCIQS9BglGocVDwzz/1P0GuzE6TruQPiIBb8TlCFKLlQ4Ij0oOoEuqRvCBF3tkti+yGu/Pb3nwZHMH9zC7tYBNxIJHQAhcx7fFkgMtgBm9kXvnOwe77P2xAIPEjoiaDDeOfU8cDneL4YhCxBq/SHscN4P1vDT6tcK4WXti/pVBiMPSxTPFckThA5KBvX7U/GE6MjjuOSA6/T21QTaEkAfrihDLvkuxCmUHscOGP2D7GPfMtdY1LfW6N386En2YgPgDeYTpBTLEPAJ0QGy+WPyxuyG6XfpXu0O9YL/1AoeFQwdwiFbIwUirB2WFjANvQIJ+djxwe6X793y4PY3+uz8V/9lAZwC7gGA/1j8Xvky92f1n/P98fjw0fEx9f/6YwJuCXwOpxBgEBYPSw3BCrIG1wCD+mb1BfOM88r1rvgI+178Af1O/fT9pv6W/k79jPpV9670tPI98bnvne727jjxo/Vm+4IBeAeiDOgQHhQHFrwWzBUVE/YOCgpHBdgAivxN+F30uvH28NXxkPMg9Un2C/d396f3Nffr9Z3zfvC87ZPsI+5x8hv45P32AoYHPQzREJIUZxaKFVkSdg36B9QCF/7F+af1DvIN8E3wy/JD9t34tPnR+A73PfVq81fxt+7a69DpyOm17KnyvPqSA/sLoxOYGo8grSS6JSwjbx2lFRgNUgR6+8Pymurq45jfX96E4FblwOuF8o34P/0OAI4Aif47+un0O/Cg7fntRvEe9+T+8QepEfIaXyJ0JgMm3CDfF80MjwFs9y3vOenf5YjlW+gD7mT13fzgAi4GNQYdA4b9VPaO7njnhOL44LzjAesT9qUDKRIoIDss/jQuOcE3YzDSI/ATMAPM81znzN6D2rnaYt/g57ry2P0fB/EMiw4nDKAGBv9f9srtouZk4nPihuce8Yn9dwq/FeQdQCLbIgogKxrKEeMH+f3R9e7wAfCm8rb34v0SBHQJUg0FD/UN0AnVAu35g/A36Gzi7t/t4DblfOxO9tsB1g2TGJAg6SSPJR8jgR6ZGCESuAv9BaABNf/S/tj/GwFrASIAYf3H+Qj2n/LU7/PtWO1g7iXxU/Uh+ob+nwEMAwsDOAIkAR0ARf/b/mz/jAF9BdkKqxDSFVkZuBrSGcgW4hFyC+wDBvyy9Pvupuvg6kjsHu+h8jT2UfmH+3j8/vtS+g/4F/Zc9Zj2KPr3/5YHaRCdGS4i5CiILEAs1CfNHz0Vawmg/fLyQ+oy5BHh8OCM41voiu4R9fD6W//pAZ4CvAG0//r8C/p69+f18fX69+77QAECB0UMXRD2EgIUihOoEZcOuwqqBvwCGwAq/vr8QPyu+xj7e/rS+Qv5//eP9s70AvOX8fjwZPHp8mX1lfg1/AUA3QOVB/cK0w3+D28RPBJ7EjQSTxGdD/EMKQlRBKr+o/jY8tbtDurF5yHnP+gs68vvxPVn/MsCAAhRC3YMkQsFCT8FnwCU+772+PIb8azxnPRI+b3+DgSVCPcLBQ6KDlENRwrABYQAovsO+Fb2fvYi+LL6rP2oAEoDIgWpBV0EDwEX/E/22vC17H3qZOpc7EPw6PXw/LQEOAxVEgsW0hbDFHMQsAo1BKT9lfe68sXvL+/68Jr0IfmM/REBTwM/BAQExQKkAOX9DPvb+Ab44Pge+/z9jgApAokCzgFHAEH+9fue+Z/3gvbX9un4ifwSAakFjglKDLANtw1nDNEJKAbWAYD92fl194729vY2+Mb5OvtK/MH8dPxQ+2z5IvcB9aXzi/Pu9L73qfs6APcEYQn9DFMPARDdDg4MBQhoA+H+//oj+H32FfbS9oj49fq9/XQArgIdBKQEWgR9A0sC/gDC/7T+7f12/Uj9Tv1h/Vv9Jv2+/Df8sftO+zL7gvtp/AT+UQAlAy0GCQlbC9sMXQ3NDDQLswiABe8BaP5Y+xn51veF9/D3yvjO+cH6efva+9H7YPuj+tf5Vfl3+Xz6bPwZ/zICWQU4CIQK/gt5DNcLIAp+B0IE2wC8/UX7tfkj+Yn5x/qy/BT/rgE4BGgG9QevCH4Icge8BZcDRQH2/s/87fpn+VX4yvfR92f4c/nQ+lj86v12//MAXQKrA88EwgWGBioHxQdpCBcJswkSCgYKbwlECIwGUQSjAZb+TPsB+AL1qfI78d7wg/H68gX1cfcb+un8t/9RAoMEJQYzB8gHEgg6CEgIMAjXBzUHXAZuBYoEtAPeAvwBEgFBALL/gf+r/woAawCkAKgAiABZACQA2f9X/5T+nv2Y/Kj73fo0+qL5K/nu+Bb5zfkb++H87/4VAT4DYgV1B1gJ2ArKCxkM0QsNC+YJZgiGBkIEqAHe/hb8f/k190L1rfOG8unx8PGd8tzzifWA96r5+/tq/uIARANsBT4HuAjlCdUKhAvYC7IL/grACRAIBwa4Ay4Be/7G+035Vvcg9sr1Ufab93751Ptw/hcBfwNZBWkGlgbvBaEE4gLoAOL++fxU+xn6Y/k2+X/5GPrT+o/7Pvzj/Ij9N/75/tb/0gD3AUIDqQQTBloHVQjaCNEIMAj+Bk0FNwPdAGf++fu7+c73TPZE9bf0nvTq9In1cfaX9/X4ifpP/EX+ZAChAukEIgcqCdkK/wtyDBEM0wrJCBcG+wK8/6f8Cvoi+Br3BvfX92T5aPuN/YP/BAHpASQCxAHuANP/qf6l/fH8q/zZ/Gv9Nf7//o//vf94/8r+z/2y/Kb74vqd+gL7KfwI/nUALAPcBTkIAwoNCzwLiQoFCdoGRwSVAQz/3vwq+/n5QPnq+OD4CPlG+YH5pvmw+a75u/n5+Yj6d/vH/Gr+SwBRAl0ESgbvByQJywnYCVEJSgjbBiEFNQM5AU7/lP0n/Bf7Z/oQ+gX6N/qc+ij71vud/Hj9X/5Q/0YAQQE6AicD+AOYBO8E7QSMBM0DwAJ4AQsAlv40/Qn8MfvD+sf6OPsI/CP9cv7h/1kBxgIQBCcFAAaXBuwG/wbPBlcGkwV+BB0DewGs/8X94/sk+qX4g/fU9qj2APfU9xH5n/pf/Df+DgDOAWkD0wQHBgMHxAdGCIQIdQgRCFQHPgbVBCMDPwFD/079hfsL+gD5fPiK+Cb5P/q2+2T9Iv/HADUCUgMQBGoEZAQQBIUD3wI5AqQBKgHNAIkAVgApAPb/r/9M/8/+RP6+/Vj9KP08/Zr9Pv4g/zEAXQGGAokDRwSpBKgESwSiA8kC0wHZAPD/J/+U/jT+CP7+/fr9+f3e/bX9gf0+/RX9+PwP/Wn9+v3v/gkAWAG1AtkD7gSEBckFqgXhBAsEiQIUAcL/uf0AAA==\" type=\"audio/wav\" />\n",
              "                    Your browser does not support the audio element.\n",
              "                </audio>\n",
              "              "
            ],
            "text/plain": [
              "<IPython.lib.display.Audio object>"
            ]
          },
          "metadata": {},
          "execution_count": 9
        }
      ]
    },
    {
      "cell_type": "code",
      "source": [
        "# Here's the main body of this homework\n",
        "\n",
        "# we will use for loops to explore the hyperparameter space\n",
        "# and find the best training routine for our softmax classifier. \n",
        "\n",
        "# Here is a hint: the number of epochs used to obtain the\n",
        "# baseline model was 5000. To beat the baseline model you may \n",
        "# have to train for more (or maybe you can do less) epochs.\n",
        "epochs = 5000\n",
        "\n",
        "# define a list with regularization values that you want to try\n",
        "regs = # your code here\n",
        "# define a list with learning rates that you want to try\n",
        "lrs = # your code here\n",
        "\n",
        "# for each combination of reg+lr values, we will save\n",
        "# the best parameters, weights, and cost functions\n",
        "results = []\n",
        "for reg in regs:\n",
        "  for lr in lrs:\n",
        "    \n",
        "    print(\"\\n####################################\\n\")\n",
        "\n",
        "    # intialize the model parameters that we want \n",
        "    # to learn using the training data\n",
        "    W = # your code here\n",
        "    b = # your code here\n",
        "\n",
        "    # initialize the \"best validation cost function\" to be \"infinity\"\n",
        "    best_Jvl = float(\"inf\")\n",
        "    # initialize the \"best\" W and the \"best\" b\n",
        "    best_W = np.array(W)\n",
        "    best_b = np.array(b)\n",
        "\n",
        "    # initialize a list to save all the\n",
        "    # training and validation cost at each epoch\n",
        "    all_Jtr = []\n",
        "    all_Jvl = []\n",
        "        \n",
        "    # now show the training data \n",
        "    # to the model and optimize\n",
        "    # via gradient descent\n",
        "    for e in range(epochs):\n",
        "\n",
        "      # calculate y_hat with the training data\n",
        "      # Q: what do you expect the initial average y_hat_tr (training) to be? why?\n",
        "      # A:   \n",
        "      y_hat_tr = # your code here\n",
        "      \n",
        "      # calculate y_hat with the validation data\n",
        "      y_hat_vl = # your code here\n",
        "      \n",
        "      # calculate the cost function with the training data (do not forget to regularize W with L2)\n",
        "      # Q: what do you expect the initial J with the training data to be? why?\n",
        "      # A:   \n",
        "      Jtr = # your code here\n",
        "      all_Jtr.append(Jtr)\n",
        "      # Q: why don't we regularize \"b\"?\n",
        "      # A:\n",
        "      \n",
        "      # calculate the cost function with the validation data (regularizing W with L2)\n",
        "      Jvl = # your code here\n",
        "      all_Jvl.append(Jvl)\n",
        "      \n",
        "      # save the best validation cost\n",
        "      if Jvl < best_Jvl:\n",
        "        best_Jvl = Jvl\n",
        "        best_W = np.array(W)\n",
        "        best_b = np.array(b)\n",
        "        \n",
        "      # Let's print some progress indicators\n",
        "      if e%500 == 0:\n",
        "        print(\"epoch {} with reg {} and lr {}, Jtr = {}\".format(e,reg,lr,Jtr))\n",
        "        print(\"           with reg {} and lr {}, Jvl = {}\".format(reg,lr,Jvl))      \n",
        "      # Q: will Jtr and Jvl be the same, roughly the same, or always different?\n",
        "      # A:\n",
        "      # Q: what relationship do you expect to see between Jtr and Jvl?\n",
        "      # A:\n",
        "      # Q: how will you know if you model is overfitting to the training data?\n",
        "      # A:      \n",
        "\n",
        "      # now find the gradient of the parameters\n",
        "      # that we want to optimize. Do not forget the L2 regularization applied to W\n",
        "      dw = # your code here\n",
        "      db = # your code here\n",
        "      # Q: why do we need to apply regularization to W?\n",
        "      # A:\n",
        "      # Q: what effect does regularization have on the cost function?\n",
        "      # A:\n",
        "      # Q: why do we not apply regularization to b?\n",
        "\n",
        "      # update the model parameters\n",
        "      W -= lr*dw.T\n",
        "      b -= lr*db\n",
        "    \n",
        "    # after the epochs are over, save the training and validation losses, \n",
        "    # as well as the best_W and best_b parameters you found\n",
        "    results.append([lr, reg, best_Jvl, all_Jtr, all_Jvl, best_W, best_b])"
      ],
      "metadata": {
        "id": "joAcVn3mzbhn"
      },
      "execution_count": null,
      "outputs": []
    },
    {
      "cell_type": "code",
      "source": [
        "# PERFORMANCE: validation set\n",
        "\n",
        "# now that training is over, let's see how the parameters we found\n",
        "# for each combination of regularization and learning rate perform \n",
        "# on the VALIDATION set\n",
        "import matplotlib.pyplot as plt\n",
        "import sklearn\n",
        "\n",
        "for p in results:\n",
        "\n",
        "  # unpack the variables needed to compute the results\n",
        "  lr, reg, best_Jvl, all_Jtr, all_Jvl, best_W, best_b = p\n",
        "\n",
        "  print(\"\\n\\n\\nWith a learning rate of {} and a regularization of {}\\n\".format(lr, reg))  \n",
        "  \n",
        "  # let's plot the loss over epochs\n",
        "  plt.plot(all_Jtr,label='Jtr')\n",
        "  plt.plot(all_Jvl,label='Jvl')  \n",
        "  plt.xlabel('epoch')\n",
        "  plt.legend()\n",
        "  plt.show()\n",
        "\n",
        "  # calculate y_hat_vl using the best parameters found\n",
        "  y_hat_vl = # your code here\n",
        "  \n",
        "  # calculate the model accuracy\n",
        "  acc = # your code here\n",
        "  print(\"The accuracy was\", acc)\n",
        "  \n",
        "  # compute the confusion matrix and plot it\n",
        "  conf_mat = sklearn.metrics.confusion_matrix(# your code here\n",
        "  disp = sklearn.metrics.ConfusionMatrixDisplay(confusion_matrix=conf_mat,display_labels=[\"a\",\"i\",\"u\",\"ae\",\"e\",\"o\"])\n",
        "  disp.plot()\n",
        "  plt.show()\n",
        "\n",
        "# to beat the \"baseline\" model, you will have to do\n",
        "# several types of data augmentation and thoroughly explore\n",
        "# the hyperparameter space (i.e. combinations of regularization and learning rate)"
      ],
      "metadata": {
        "id": "w1AnjPr9yRvS"
      },
      "execution_count": null,
      "outputs": []
    },
    {
      "cell_type": "code",
      "source": [
        "# Here's something kinda cool. Since each column of W helps separating\n",
        "# a different vowel, after training W, you can \"hear the vowels\" in the \n",
        "# columns of the best weights you got.\n",
        "Audio(data=results[0][5][:,0], rate=sr) # you will have to index results properly to access the best_W you found"
      ],
      "metadata": {
        "colab": {
          "base_uri": "https://localhost:8080/",
          "height": 52
        },
        "id": "RllrZbafNNmI",
        "outputId": "6e3674fd-db2f-4d70-a310-3f77b6549208"
      },
      "execution_count": null,
      "outputs": [
        {
          "output_type": "execute_result",
          "data": {
            "text/html": [
              "\n",
              "                <audio controls=\"controls\" >\n",
              "                    <source src=\"data:audio/wav;base64,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\" type=\"audio/wav\" />\n",
              "                    Your browser does not support the audio element.\n",
              "                </audio>\n",
              "              "
            ],
            "text/plain": [
              "<IPython.lib.display.Audio object>"
            ]
          },
          "metadata": {},
          "execution_count": 18
        }
      ]
    },
    {
      "cell_type": "code",
      "source": [
        "# when you are done optimizing your absolue best model, carry out the same performance\n",
        "# evaluation with the test set. Do not forget to standardize your data. \n",
        "# When you are done, submit a picture of your final evaluation as a post to our subreddit\n",
        "# https://www.reddit.com/r/deeplearningaudio/\n",
        "\n",
        "# post the accuracy and the confusion matrix on the evaluation set\n",
        "\n",
        "mu_ts = # your code here\n",
        "max_ts = # your code here\n",
        "\n",
        "Xts = (data_ts-mu_ts)/max_ts\n",
        "\n",
        "# unpack the parameters that gave you the best results\n",
        "lr, reg, best_Jvl, all_Jtr, all_Jvl, best_W, best_b = # your code here\n",
        "\n",
        "print(\"\\n\\n\\nWith a learning rate of {} and a regularization of {}\\n\".format(lr, reg))  \n",
        "\n",
        "# let's plot the loss over epochs\n",
        "plt.plot(all_Jtr,label='Jtr')\n",
        "plt.plot(all_Jvl,label='Jvl')  \n",
        "plt.xlabel('epoch')\n",
        "plt.legend()\n",
        "plt.show()\n",
        "\n",
        "# calculate y_hat_vl using the best parameters found\n",
        "y_hat_ts = # your code here\n",
        "\n",
        "# calculate the model accuracy\n",
        "acc = # your code here\n",
        "print(\"The test-set accuracy was\", acc)\n",
        "\n",
        "# compute the confusion matrix and plot it\n",
        "conf_mat = sklearn.metrics.confusion_matrix(# your code here\n",
        "disp = sklearn.metrics.ConfusionMatrixDisplay(confusion_matrix=conf_mat,display_labels=[\"a\",\"i\",\"u\",\"ae\",\"e\",\"o\"])\n",
        "disp.plot()\n",
        "plt.show()\n"
      ],
      "metadata": {
        "id": "Z5IOgX7e1pVH"
      },
      "execution_count": null,
      "outputs": []
    },
    {
      "cell_type": "code",
      "source": [
        "# you are done with the homework. The next cell lets you record 2 seconds of\n",
        "# audio. Then you can use your model to infer the vowel you said in the audio recording."
      ],
      "metadata": {
        "id": "RFGeS3OLrKdG"
      },
      "execution_count": null,
      "outputs": []
    },
    {
      "cell_type": "code",
      "source": [
        "#@markdown Either record audio from microphone or upload audio from file (.mp3 or .wav) { run: \"auto\" }\n",
        "\n",
        "# imports for uploading/recording\n",
        "%cd ~\n",
        "!pip install pydub\n",
        "!git clone -q --depth 1 https://github.com/snakers4/silero-models\n",
        "%cd silero-models\n",
        "import numpy as np\n",
        "import ipywidgets as widgets\n",
        "from scipy.io import wavfile\n",
        "from IPython.display import Audio, display, clear_output\n",
        "from colab_utils import (record_audio,\n",
        "                         audio_bytes_to_np,\n",
        "                         upload_audio)\n",
        "\n",
        "record_or_upload = \"Record\" #@param [\"Record\", \"Upload (.mp3 or .wav)\"]\n",
        "record_seconds =   2#@param {type:\"number\", min:1, max:10, step:1}\n",
        "sample_rate = 16000\n",
        "  \n",
        "def _record_audio(b):\n",
        "  clear_output()\n",
        "  audio = record_audio(record_seconds)\n",
        "  wavfile.write('recorded.wav', sample_rate, (32767*audio).numpy().astype(np.int32))  \n",
        "\n",
        "def _upload_audio(b):\n",
        "  clear_output()\n",
        "  audio = upload_audio()  \n",
        "  return audio\n",
        "\n",
        "if record_or_upload == \"Record\":\n",
        "  button = widgets.Button(description=\"Record Speech\")\n",
        "  button.on_click(_record_audio)\n",
        "  display(button)\n",
        "else:\n",
        "  audio = _upload_audio(\"\")"
      ],
      "metadata": {
        "colab": {
          "base_uri": "https://localhost:8080/",
          "height": 117,
          "referenced_widgets": [
            "2c6a2bbe63cb4aafbb7bc0cd14e99b73",
            "1dcfcf51ae984eac99eb61647c08251a",
            "3e7102173c0b4631b3489fd8ab7fc469"
          ]
        },
        "cellView": "form",
        "id": "10xDqwXWd8Ad",
        "outputId": "49e976fe-aa44-441e-f298-b4dbe087701d"
      },
      "execution_count": null,
      "outputs": [
        {
          "output_type": "stream",
          "name": "stdout",
          "text": [
            "/root\n",
            "Requirement already satisfied: pydub in /usr/local/lib/python3.7/dist-packages (0.25.1)\n",
            "fatal: destination path 'silero-models' already exists and is not an empty directory.\n",
            "/root/silero-models\n"
          ]
        },
        {
          "output_type": "display_data",
          "data": {
            "application/vnd.jupyter.widget-view+json": {
              "model_id": "2c6a2bbe63cb4aafbb7bc0cd14e99b73",
              "version_minor": 0,
              "version_major": 2
            },
            "text/plain": [
              "Button(description='Record Speech', style=ButtonStyle())"
            ]
          },
          "metadata": {}
        }
      ]
    },
    {
      "cell_type": "code",
      "source": [
        "# this cell is very \"hacky\" and assumes that you were constantly\n",
        "# saying a vowel for the duration of a two second recording\n",
        "\n",
        "# load the audio\n",
        "audio, sr = librosa.load('recorded.wav',sr=sr)\n",
        "\n",
        "# window to match the audio length that we trained the model to recognize\n",
        "audio = audio[np.newaxis,sr//2:sr//2+3334]*hann(3334)\n",
        "\n",
        "# normalize the audio as we did before\n",
        "mu_rec = # your code here\n",
        "max_rec = # your code here\n",
        "x = (audio-mu_rec)/max_rec\n",
        "\n",
        "# unpack the parameters that gave you the best results\n",
        "lr, reg, best_Jvl, all_Jtr, all_Jvl, best_W, best_b = # your code here\n",
        "\n",
        "# carry out inference with your best parameters\n",
        "y_hat_rec = # your code here\n",
        "\n",
        "# print results and hear the recording\n",
        "vowels = ['a','i','u','ae','e','o']\n",
        "print('You said the vowel ',vowels[np.argmax(y_hat_rec)])\n",
        "Audio(data=x, rate=sr)"
      ],
      "metadata": {
        "colab": {
          "base_uri": "https://localhost:8080/",
          "height": 69
        },
        "id": "DJ-s72q4gb2t",
        "outputId": "508e7a93-6e35-4986-ea8e-0484fa8763d0"
      },
      "execution_count": null,
      "outputs": [
        {
          "output_type": "stream",
          "name": "stdout",
          "text": [
            "You said the vowel  e\n"
          ]
        },
        {
          "output_type": "execute_result",
          "data": {
            "text/html": [
              "\n",
              "                <audio controls=\"controls\" >\n",
              "                    <source src=\"data:audio/wav;base64,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\" type=\"audio/wav\" />\n",
              "                    Your browser does not support the audio element.\n",
              "                </audio>\n",
              "              "
            ],
            "text/plain": [
              "<IPython.lib.display.Audio object>"
            ]
          },
          "metadata": {},
          "execution_count": 99
        }
      ]
    }
  ]
}