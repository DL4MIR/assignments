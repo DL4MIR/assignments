{
  "nbformat": 4,
  "nbformat_minor": 0,
  "metadata": {
    "colab": {
      "name": "your_data.ipynb",
      "provenance": []
    },
    "kernelspec": {
      "name": "python3",
      "display_name": "Python 3"
    },
    "language_info": {
      "name": "python"
    }
  },
  "cells": [
    {
      "cell_type": "code",
      "execution_count": 1,
      "metadata": {
        "id": "o71d1JL-ptNd"
      },
      "outputs": [],
      "source": [
        "# load your data"
      ]
    },
    {
      "cell_type": "code",
      "source": [
        "# visualize a few raw datapoints to get an idea about your \"raw\" data\n",
        "\n",
        "# what are the units in the plot you are showing us?"
      ],
      "metadata": {
        "id": "QCDsBUWrpuk_"
      },
      "execution_count": 2,
      "outputs": []
    },
    {
      "cell_type": "code",
      "source": [
        "# visualize the labels of your dataset (could be as simple as a table)\n",
        "\n",
        "# how many labels are there available per each datapoint?\n",
        "# how are the different labels useful/needed?"
      ],
      "metadata": {
        "id": "gaslabRFpwk9"
      },
      "execution_count": 3,
      "outputs": []
    },
    {
      "cell_type": "code",
      "source": [
        "# pre-process the data (as needed before you can show it to your model).\n",
        "\n",
        "# plot a few datapoints in your pre-processed data. \n",
        "\n",
        "# what's different between the plots of \"raw\" data and \"pre-processed\" data?\n",
        "# how do these differences make it easier for the model to learn from your data?"
      ],
      "metadata": {
        "id": "qWVlxD7HqHJY"
      },
      "execution_count": 4,
      "outputs": []
    },
    {
      "cell_type": "code",
      "source": [
        "# plot ALL of your training data using t-SNE and PCA (must plot both)"
      ],
      "metadata": {
        "id": "4aAlfmm2qjHD"
      },
      "execution_count": 5,
      "outputs": []
    },
    {
      "cell_type": "code",
      "source": [
        "# create a NEW visualization of your dataset that is different from \n",
        "# the above instructions (be creative!). You can do more than 1 if you want."
      ],
      "metadata": {
        "id": "76yFc5-Bq7IS"
      },
      "execution_count": 6,
      "outputs": []
    },
    {
      "cell_type": "code",
      "source": [
        "#############\n",
        "# IMPORTANT #\n",
        "#############\n",
        "# IMPORTANT: all figures that you produce in this notebook must be produced 100% with python. \n",
        "# (do not use other software like keynote, excell, powepoint, photoshop, illustrator, etc)\n",
        "\n",
        "# when you are done, create a post on our course subreddit with ALL your data visualizations (save plots or take screenshots)\n",
        "# make sure the title of the post is the title of your dataset. In a comment tell us about the data you used.\n",
        "# your subreddit post must have at least 6 different plots.\n",
        "\n",
        "# to get full credit, your plots must \"make perfect sense\". This means that \n",
        "# all axes should be properly labeled (with units), titled, and must include legends.\n",
        "\n",
        "# Finally, create a github repository for your project and upload your visualization\n",
        "# code and plots there. \n",
        "\n",
        "# send the instructor an email with the link to your github repository. "
      ],
      "metadata": {
        "id": "2_ZDzPX4rfbo"
      },
      "execution_count": 7,
      "outputs": []
    },
    {
      "cell_type": "code",
      "source": [
        ""
      ],
      "metadata": {
        "id": "ma07f752sjuX"
      },
      "execution_count": null,
      "outputs": []
    }
  ]
}